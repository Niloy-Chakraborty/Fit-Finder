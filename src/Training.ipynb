{
 "cells": [
  {
   "cell_type": "code",
   "execution_count": 7,
   "metadata": {
    "executionInfo": {
     "elapsed": 200,
     "status": "ok",
     "timestamp": 1626094606600,
     "user": {
      "displayName": "Niloy Chakraborty",
      "photoUrl": "https://lh3.googleusercontent.com/a-/AOh14Gi2dxr3mDG4fGE3czm254OfGB1BBY7ZRnOb-1iTWg=s64",
      "userId": "03470181343480694484"
     },
     "user_tz": -120
    },
    "id": "c_5MENyJ98vH"
   },
   "outputs": [],
   "source": [
    "# basic libraries import\n",
    "import os\n",
    "import glob\n",
    "import sys\n",
    "import pandas as pd\n",
    "import numpy as np\n",
    "\n",
    "#reading data\n",
    "import json\n",
    "\n",
    "# Plotting libraries and parameters\n",
    "import matplotlib.pyplot as plt\n",
    "import seaborn as sns\n",
    "\n",
    "import matplotlib\n",
    "matplotlib.rc('figure', figsize = (20, 8))\n",
    "matplotlib.rc('axes.spines', top = False, right = False)\n",
    "matplotlib.rc('axes', facecolor = 'white')\n",
    "matplotlib.rc('axes', grid = False)\n",
    "matplotlib.rc('font', size = 14)\n",
    "try:\n",
    "  # %tensorflow_version only exists in Colab.\n",
    "  %tensorflow_version 2.x\n",
    "except Exception:\n",
    "  pass\n",
    "\n",
    "import tensorflow as tf\n",
    "from tensorflow import keras\n",
    "from tensorflow import feature_column\n",
    "from sklearn.model_selection import train_test_split\n",
    "from tensorflow.keras import layers\n"
   ]
  },
  {
   "cell_type": "code",
   "execution_count": 8,
   "metadata": {
    "colab": {
     "base_uri": "https://localhost:8080/"
    },
    "executionInfo": {
     "elapsed": 215,
     "status": "ok",
     "timestamp": 1626094614510,
     "user": {
      "displayName": "Niloy Chakraborty",
      "photoUrl": "https://lh3.googleusercontent.com/a-/AOh14Gi2dxr3mDG4fGE3czm254OfGB1BBY7ZRnOb-1iTWg=s64",
      "userId": "03470181343480694484"
     },
     "user_tz": -120
    },
    "id": "JvEG2YTr-dPn",
    "outputId": "a9ef4a11-38e1-44fc-8563-edda8ec0e016"
   },
   "outputs": [],
   "source": [
    "# from google.colab import drive\n",
    "# drive.mount('/gdrive')\n",
    "# %cd /gdrive/My Drive/Fit_Finder/"
   ]
  },
  {
   "cell_type": "code",
   "execution_count": 11,
   "metadata": {
    "executionInfo": {
     "elapsed": 192,
     "status": "ok",
     "timestamp": 1626094616212,
     "user": {
      "displayName": "Niloy Chakraborty",
      "photoUrl": "https://lh3.googleusercontent.com/a-/AOh14Gi2dxr3mDG4fGE3czm254OfGB1BBY7ZRnOb-1iTWg=s64",
      "userId": "03470181343480694484"
     },
     "user_tz": -120
    },
    "id": "bBybCj5h-eIj"
   },
   "outputs": [],
   "source": [
    "BASE_PATH = \"../Data/\"\n",
    "BASE_MODEL_PATH = \"../Model/\""
   ]
  },
  {
   "cell_type": "code",
   "execution_count": 12,
   "metadata": {
    "executionInfo": {
     "elapsed": 578,
     "status": "ok",
     "timestamp": 1626094618134,
     "user": {
      "displayName": "Niloy Chakraborty",
      "photoUrl": "https://lh3.googleusercontent.com/a-/AOh14Gi2dxr3mDG4fGE3czm254OfGB1BBY7ZRnOb-1iTWg=s64",
      "userId": "03470181343480694484"
     },
     "user_tz": -120
    },
    "id": "ZciNgF14-3eu"
   },
   "outputs": [],
   "source": [
    "df = pd.read_csv(BASE_PATH+\"processed_data.csv\")"
   ]
  },
  {
   "cell_type": "code",
   "execution_count": 13,
   "metadata": {
    "colab": {
     "base_uri": "https://localhost:8080/",
     "height": 206
    },
    "executionInfo": {
     "elapsed": 313,
     "status": "ok",
     "timestamp": 1626094619410,
     "user": {
      "displayName": "Niloy Chakraborty",
      "photoUrl": "https://lh3.googleusercontent.com/a-/AOh14Gi2dxr3mDG4fGE3czm254OfGB1BBY7ZRnOb-1iTWg=s64",
      "userId": "03470181343480694484"
     },
     "user_tz": -120
    },
    "id": "E5jSPY5cIiwZ",
    "outputId": "7bc0ad3c-8972-47d3-cbb1-9319c4b589b8"
   },
   "outputs": [
    {
     "data": {
      "text/html": [
       "<div>\n",
       "<style scoped>\n",
       "    .dataframe tbody tr th:only-of-type {\n",
       "        vertical-align: middle;\n",
       "    }\n",
       "\n",
       "    .dataframe tbody tr th {\n",
       "        vertical-align: top;\n",
       "    }\n",
       "\n",
       "    .dataframe thead th {\n",
       "        text-align: right;\n",
       "    }\n",
       "</style>\n",
       "<table border=\"1\" class=\"dataframe\">\n",
       "  <thead>\n",
       "    <tr style=\"text-align: right;\">\n",
       "      <th></th>\n",
       "      <th>Unnamed: 0</th>\n",
       "      <th>item_id</th>\n",
       "      <th>size</th>\n",
       "      <th>quality</th>\n",
       "      <th>cup_size</th>\n",
       "      <th>hips</th>\n",
       "      <th>bra_size</th>\n",
       "      <th>category</th>\n",
       "      <th>height</th>\n",
       "      <th>user_name</th>\n",
       "      <th>length</th>\n",
       "      <th>fit</th>\n",
       "      <th>review_text</th>\n",
       "    </tr>\n",
       "  </thead>\n",
       "  <tbody>\n",
       "    <tr>\n",
       "      <th>0</th>\n",
       "      <td>0</td>\n",
       "      <td>123373</td>\n",
       "      <td>7</td>\n",
       "      <td>5.0</td>\n",
       "      <td>d</td>\n",
       "      <td>M</td>\n",
       "      <td>34.0</td>\n",
       "      <td>new</td>\n",
       "      <td>167.64</td>\n",
       "      <td>emily</td>\n",
       "      <td>just right</td>\n",
       "      <td>small</td>\n",
       "      <td>Unknown</td>\n",
       "    </tr>\n",
       "    <tr>\n",
       "      <th>1</th>\n",
       "      <td>1</td>\n",
       "      <td>123373</td>\n",
       "      <td>13</td>\n",
       "      <td>3.0</td>\n",
       "      <td>b</td>\n",
       "      <td>XS</td>\n",
       "      <td>36.0</td>\n",
       "      <td>new</td>\n",
       "      <td>157.48</td>\n",
       "      <td>sydneybraden2001</td>\n",
       "      <td>just right</td>\n",
       "      <td>small</td>\n",
       "      <td>Unknown</td>\n",
       "    </tr>\n",
       "    <tr>\n",
       "      <th>2</th>\n",
       "      <td>2</td>\n",
       "      <td>123373</td>\n",
       "      <td>7</td>\n",
       "      <td>2.0</td>\n",
       "      <td>b</td>\n",
       "      <td>Unknown</td>\n",
       "      <td>32.0</td>\n",
       "      <td>new</td>\n",
       "      <td>170.18</td>\n",
       "      <td>ugggh</td>\n",
       "      <td>slightly long</td>\n",
       "      <td>small</td>\n",
       "      <td>Unknown</td>\n",
       "    </tr>\n",
       "    <tr>\n",
       "      <th>3</th>\n",
       "      <td>3</td>\n",
       "      <td>123373</td>\n",
       "      <td>21</td>\n",
       "      <td>5.0</td>\n",
       "      <td>dd/e</td>\n",
       "      <td>Unknown</td>\n",
       "      <td>36.0</td>\n",
       "      <td>new</td>\n",
       "      <td>165.10</td>\n",
       "      <td>alexmeyer626</td>\n",
       "      <td>just right</td>\n",
       "      <td>fit</td>\n",
       "      <td>Unknown</td>\n",
       "    </tr>\n",
       "    <tr>\n",
       "      <th>4</th>\n",
       "      <td>4</td>\n",
       "      <td>123373</td>\n",
       "      <td>18</td>\n",
       "      <td>5.0</td>\n",
       "      <td>b</td>\n",
       "      <td>Unknown</td>\n",
       "      <td>36.0</td>\n",
       "      <td>new</td>\n",
       "      <td>157.48</td>\n",
       "      <td>dberrones1</td>\n",
       "      <td>slightly long</td>\n",
       "      <td>small</td>\n",
       "      <td>Unknown</td>\n",
       "    </tr>\n",
       "  </tbody>\n",
       "</table>\n",
       "</div>"
      ],
      "text/plain": [
       "   Unnamed: 0  item_id  size  quality cup_size     hips  bra_size category  \\\n",
       "0           0   123373     7      5.0        d        M      34.0      new   \n",
       "1           1   123373    13      3.0        b       XS      36.0      new   \n",
       "2           2   123373     7      2.0        b  Unknown      32.0      new   \n",
       "3           3   123373    21      5.0     dd/e  Unknown      36.0      new   \n",
       "4           4   123373    18      5.0        b  Unknown      36.0      new   \n",
       "\n",
       "   height         user_name         length    fit review_text  \n",
       "0  167.64             emily     just right  small     Unknown  \n",
       "1  157.48  sydneybraden2001     just right  small     Unknown  \n",
       "2  170.18             ugggh  slightly long  small     Unknown  \n",
       "3  165.10      alexmeyer626     just right    fit     Unknown  \n",
       "4  157.48        dberrones1  slightly long  small     Unknown  "
      ]
     },
     "execution_count": 13,
     "metadata": {},
     "output_type": "execute_result"
    }
   ],
   "source": [
    "df.head()"
   ]
  },
  {
   "cell_type": "code",
   "execution_count": 14,
   "metadata": {
    "executionInfo": {
     "elapsed": 193,
     "status": "ok",
     "timestamp": 1626094621094,
     "user": {
      "displayName": "Niloy Chakraborty",
      "photoUrl": "https://lh3.googleusercontent.com/a-/AOh14Gi2dxr3mDG4fGE3czm254OfGB1BBY7ZRnOb-1iTWg=s64",
      "userId": "03470181343480694484"
     },
     "user_tz": -120
    },
    "id": "MxY4wQowIoxn"
   },
   "outputs": [],
   "source": [
    "df = df.drop(\"Unnamed: 0\",axis =1)"
   ]
  },
  {
   "cell_type": "code",
   "execution_count": 15,
   "metadata": {
    "colab": {
     "base_uri": "https://localhost:8080/",
     "height": 206
    },
    "executionInfo": {
     "elapsed": 334,
     "status": "ok",
     "timestamp": 1626094622478,
     "user": {
      "displayName": "Niloy Chakraborty",
      "photoUrl": "https://lh3.googleusercontent.com/a-/AOh14Gi2dxr3mDG4fGE3czm254OfGB1BBY7ZRnOb-1iTWg=s64",
      "userId": "03470181343480694484"
     },
     "user_tz": -120
    },
    "id": "bwGI1mWcIwlw",
    "outputId": "5b4fdf61-8ed3-4fa5-f6b7-83781fa8ae01"
   },
   "outputs": [
    {
     "data": {
      "text/html": [
       "<div>\n",
       "<style scoped>\n",
       "    .dataframe tbody tr th:only-of-type {\n",
       "        vertical-align: middle;\n",
       "    }\n",
       "\n",
       "    .dataframe tbody tr th {\n",
       "        vertical-align: top;\n",
       "    }\n",
       "\n",
       "    .dataframe thead th {\n",
       "        text-align: right;\n",
       "    }\n",
       "</style>\n",
       "<table border=\"1\" class=\"dataframe\">\n",
       "  <thead>\n",
       "    <tr style=\"text-align: right;\">\n",
       "      <th></th>\n",
       "      <th>item_id</th>\n",
       "      <th>size</th>\n",
       "      <th>quality</th>\n",
       "      <th>cup_size</th>\n",
       "      <th>hips</th>\n",
       "      <th>bra_size</th>\n",
       "      <th>category</th>\n",
       "      <th>height</th>\n",
       "      <th>user_name</th>\n",
       "      <th>length</th>\n",
       "      <th>fit</th>\n",
       "      <th>review_text</th>\n",
       "    </tr>\n",
       "  </thead>\n",
       "  <tbody>\n",
       "    <tr>\n",
       "      <th>0</th>\n",
       "      <td>123373</td>\n",
       "      <td>7</td>\n",
       "      <td>5.0</td>\n",
       "      <td>d</td>\n",
       "      <td>M</td>\n",
       "      <td>34.0</td>\n",
       "      <td>new</td>\n",
       "      <td>167.64</td>\n",
       "      <td>emily</td>\n",
       "      <td>just right</td>\n",
       "      <td>small</td>\n",
       "      <td>Unknown</td>\n",
       "    </tr>\n",
       "    <tr>\n",
       "      <th>1</th>\n",
       "      <td>123373</td>\n",
       "      <td>13</td>\n",
       "      <td>3.0</td>\n",
       "      <td>b</td>\n",
       "      <td>XS</td>\n",
       "      <td>36.0</td>\n",
       "      <td>new</td>\n",
       "      <td>157.48</td>\n",
       "      <td>sydneybraden2001</td>\n",
       "      <td>just right</td>\n",
       "      <td>small</td>\n",
       "      <td>Unknown</td>\n",
       "    </tr>\n",
       "    <tr>\n",
       "      <th>2</th>\n",
       "      <td>123373</td>\n",
       "      <td>7</td>\n",
       "      <td>2.0</td>\n",
       "      <td>b</td>\n",
       "      <td>Unknown</td>\n",
       "      <td>32.0</td>\n",
       "      <td>new</td>\n",
       "      <td>170.18</td>\n",
       "      <td>ugggh</td>\n",
       "      <td>slightly long</td>\n",
       "      <td>small</td>\n",
       "      <td>Unknown</td>\n",
       "    </tr>\n",
       "    <tr>\n",
       "      <th>3</th>\n",
       "      <td>123373</td>\n",
       "      <td>21</td>\n",
       "      <td>5.0</td>\n",
       "      <td>dd/e</td>\n",
       "      <td>Unknown</td>\n",
       "      <td>36.0</td>\n",
       "      <td>new</td>\n",
       "      <td>165.10</td>\n",
       "      <td>alexmeyer626</td>\n",
       "      <td>just right</td>\n",
       "      <td>fit</td>\n",
       "      <td>Unknown</td>\n",
       "    </tr>\n",
       "    <tr>\n",
       "      <th>4</th>\n",
       "      <td>123373</td>\n",
       "      <td>18</td>\n",
       "      <td>5.0</td>\n",
       "      <td>b</td>\n",
       "      <td>Unknown</td>\n",
       "      <td>36.0</td>\n",
       "      <td>new</td>\n",
       "      <td>157.48</td>\n",
       "      <td>dberrones1</td>\n",
       "      <td>slightly long</td>\n",
       "      <td>small</td>\n",
       "      <td>Unknown</td>\n",
       "    </tr>\n",
       "  </tbody>\n",
       "</table>\n",
       "</div>"
      ],
      "text/plain": [
       "   item_id  size  quality cup_size     hips  bra_size category  height  \\\n",
       "0   123373     7      5.0        d        M      34.0      new  167.64   \n",
       "1   123373    13      3.0        b       XS      36.0      new  157.48   \n",
       "2   123373     7      2.0        b  Unknown      32.0      new  170.18   \n",
       "3   123373    21      5.0     dd/e  Unknown      36.0      new  165.10   \n",
       "4   123373    18      5.0        b  Unknown      36.0      new  157.48   \n",
       "\n",
       "          user_name         length    fit review_text  \n",
       "0             emily     just right  small     Unknown  \n",
       "1  sydneybraden2001     just right  small     Unknown  \n",
       "2             ugggh  slightly long  small     Unknown  \n",
       "3      alexmeyer626     just right    fit     Unknown  \n",
       "4        dberrones1  slightly long  small     Unknown  "
      ]
     },
     "execution_count": 15,
     "metadata": {},
     "output_type": "execute_result"
    }
   ],
   "source": [
    "df.head()\n"
   ]
  },
  {
   "cell_type": "code",
   "execution_count": 16,
   "metadata": {
    "executionInfo": {
     "elapsed": 191,
     "status": "ok",
     "timestamp": 1626094624151,
     "user": {
      "displayName": "Niloy Chakraborty",
      "photoUrl": "https://lh3.googleusercontent.com/a-/AOh14Gi2dxr3mDG4fGE3czm254OfGB1BBY7ZRnOb-1iTWg=s64",
      "userId": "03470181343480694484"
     },
     "user_tz": -120
    },
    "id": "jnxEfpME_INJ"
   },
   "outputs": [],
   "source": [
    "# Split into train and validation dataset, i am not showing any performance on \n",
    "# test dataset for now,\n",
    "df  = df.drop(\"review_text\",axis=1)\n",
    "train, val = train_test_split(df, test_size=0.2)"
   ]
  },
  {
   "cell_type": "code",
   "execution_count": 17,
   "metadata": {
    "executionInfo": {
     "elapsed": 186,
     "status": "ok",
     "timestamp": 1626094639909,
     "user": {
      "displayName": "Niloy Chakraborty",
      "photoUrl": "https://lh3.googleusercontent.com/a-/AOh14Gi2dxr3mDG4fGE3czm254OfGB1BBY7ZRnOb-1iTWg=s64",
      "userId": "03470181343480694484"
     },
     "user_tz": -120
    },
    "id": "a9krSxV-_MLY"
   },
   "outputs": [],
   "source": [
    "user_categorical_features = [\"user_name\",\"hips\",\"cup_size\"]\n",
    "user_numerical_features = [\"height\",\"bra_size\"]\n",
    "item_categorical_features = [\"item_id\", \"category\", \"length\"]\n",
    "item_numerical_features = [\"size\",\"quality\"]"
   ]
  },
  {
   "cell_type": "code",
   "execution_count": 18,
   "metadata": {
    "executionInfo": {
     "elapsed": 195,
     "status": "ok",
     "timestamp": 1626094642266,
     "user": {
      "displayName": "Niloy Chakraborty",
      "photoUrl": "https://lh3.googleusercontent.com/a-/AOh14Gi2dxr3mDG4fGE3czm254OfGB1BBY7ZRnOb-1iTWg=s64",
      "userId": "03470181343480694484"
     },
     "user_tz": -120
    },
    "id": "vMUAxNRw_N78"
   },
   "outputs": [],
   "source": [
    "# Scaling the numerical features\n",
    "from sklearn import preprocessing\n",
    "scaler = preprocessing.MinMaxScaler().fit(train[[\"height\",\"bra_size\",\"size\",\"quality\"]])"
   ]
  },
  {
   "cell_type": "code",
   "execution_count": 19,
   "metadata": {
    "colab": {
     "base_uri": "https://localhost:8080/"
    },
    "executionInfo": {
     "elapsed": 197,
     "status": "ok",
     "timestamp": 1626094655141,
     "user": {
      "displayName": "Niloy Chakraborty",
      "photoUrl": "https://lh3.googleusercontent.com/a-/AOh14Gi2dxr3mDG4fGE3czm254OfGB1BBY7ZRnOb-1iTWg=s64",
      "userId": "03470181343480694484"
     },
     "user_tz": -120
    },
    "id": "c-_ggVPm_Pvz",
    "outputId": "e9116ad6-46f4-4306-c396-1a67019daa9a"
   },
   "outputs": [
    {
     "name": "stderr",
     "output_type": "stream",
     "text": [
      "c:\\users\\int004889\\appdata\\local\\programs\\python\\python37\\lib\\site-packages\\pandas\\core\\frame.py:3607: SettingWithCopyWarning: \n",
      "A value is trying to be set on a copy of a slice from a DataFrame.\n",
      "Try using .loc[row_indexer,col_indexer] = value instead\n",
      "\n",
      "See the caveats in the documentation: https://pandas.pydata.org/pandas-docs/stable/user_guide/indexing.html#returning-a-view-versus-a-copy\n",
      "  self._set_item(key, value)\n",
      "c:\\users\\int004889\\appdata\\local\\programs\\python\\python37\\lib\\site-packages\\pandas\\core\\frame.py:3607: SettingWithCopyWarning: \n",
      "A value is trying to be set on a copy of a slice from a DataFrame.\n",
      "Try using .loc[row_indexer,col_indexer] = value instead\n",
      "\n",
      "See the caveats in the documentation: https://pandas.pydata.org/pandas-docs/stable/user_guide/indexing.html#returning-a-view-versus-a-copy\n",
      "  self._set_item(key, value)\n"
     ]
    }
   ],
   "source": [
    "train[[\"height\",\"bra_size\",\"size\",\"quality\"]] = scaler.transform(train[[\"height\",\"bra_size\",\"size\",\"quality\"]])\n",
    "val[[\"height\",\"bra_size\",\"size\",\"quality\"]] = scaler.transform(val[[\"height\",\"bra_size\",\"size\",\"quality\"]])"
   ]
  },
  {
   "cell_type": "code",
   "execution_count": 20,
   "metadata": {
    "executionInfo": {
     "elapsed": 234,
     "status": "ok",
     "timestamp": 1626094669482,
     "user": {
      "displayName": "Niloy Chakraborty",
      "photoUrl": "https://lh3.googleusercontent.com/a-/AOh14Gi2dxr3mDG4fGE3czm254OfGB1BBY7ZRnOb-1iTWg=s64",
      "userId": "03470181343480694484"
     },
     "user_tz": -120
    },
    "id": "1fhzzdER_SlV"
   },
   "outputs": [],
   "source": [
    "for col in user_categorical_features + item_categorical_features:\n",
    "  df[col] = df[col].astype(str)"
   ]
  },
  {
   "cell_type": "code",
   "execution_count": 21,
   "metadata": {
    "executionInfo": {
     "elapsed": 271,
     "status": "ok",
     "timestamp": 1626094680162,
     "user": {
      "displayName": "Niloy Chakraborty",
      "photoUrl": "https://lh3.googleusercontent.com/a-/AOh14Gi2dxr3mDG4fGE3czm254OfGB1BBY7ZRnOb-1iTWg=s64",
      "userId": "03470181343480694484"
     },
     "user_tz": -120
    },
    "id": "Jgjfc85O_XXR"
   },
   "outputs": [],
   "source": [
    "# 1) Create feature columns for ingestion into NN\n",
    "\n",
    "# Numeric Columns\n",
    "numeric_users = {\n",
    "    col : feature_column.numeric_column(col) \\\n",
    "          for col in user_numerical_features\n",
    "}\n",
    "numeric_items = {\n",
    "    col : feature_column.numeric_column(col) \\\n",
    "          for col in item_numerical_features\n",
    "}\n",
    "\n",
    "# Categorical Columns\n",
    "# Now categorical columns can be encoded into one-hot vectors and fed into NN\n",
    "# But the paper has used embedding and hence we can use the same (generally used for\n",
    "# a categroical feature with lots of categories, but let us see)\n",
    "\n",
    "hips = feature_column.categorical_column_with_vocabulary_list(\n",
    "      'hips', df.hips.unique().tolist())\n",
    "cup_size = feature_column.categorical_column_with_vocabulary_list(\n",
    "      'cup_size', df.cup_size.unique().tolist())\n",
    "user_name = feature_column.categorical_column_with_vocabulary_list(\n",
    "      'user_name', df.user_name.unique().tolist())\n",
    "\n",
    "\n",
    "\n",
    "item_id = feature_column.categorical_column_with_vocabulary_list(\n",
    "      'item_id', df.item_id.unique().tolist())\n",
    "category = feature_column.categorical_column_with_vocabulary_list(\n",
    "      'category', df.category.unique().tolist())\n",
    "length = feature_column.categorical_column_with_vocabulary_list(\n",
    "      'length', df.length.unique().tolist())\n",
    "\n",
    "# There are 6 dimension hyperparameters to be given here which is a lot,\n",
    "# hence for now i am giving these values, later we will see if we can\n",
    "# somehow guide the decision via cross-val\n",
    "hips_embedding = feature_column.embedding_column(hips, dimension=5)\n",
    "cup_size_embedding = feature_column.embedding_column(cup_size, dimension=5)\n",
    "user_name_embedding = feature_column.embedding_column(user_name, dimension=50)\n",
    "item_id_embedding = feature_column.embedding_column(item_id, dimension=50)\n",
    "category_embedding = feature_column.embedding_column(category, dimension=5)\n",
    "length_embedding = feature_column.embedding_column(length, dimension=5)\n",
    "\n",
    "cat_users = {\n",
    "    'hips' : hips_embedding,\n",
    "    'cup_size' : cup_size_embedding,\n",
    "    'user_name': user_name_embedding\n",
    "}\n",
    "\n",
    "cat_items = {\n",
    "    'item_id' : item_id_embedding,\n",
    "    'category' : category_embedding,\n",
    "    'length': length_embedding\n",
    "}\n",
    "\n",
    "input_user = {\n",
    "    colname : tf.keras.layers.Input(name=colname, shape=(), dtype='float32') \\\n",
    "          for colname in numeric_users.keys()\n",
    "}\n",
    "input_user.update({\n",
    "    colname : tf.keras.layers.Input(name=colname, shape=(),  dtype='string') \\\n",
    "          for colname in cat_users.keys()\n",
    "})\n",
    "\n",
    "input_items = {\n",
    "    colname : tf.keras.layers.Input(name=colname, shape=(), dtype = 'float32') \\\n",
    "          for colname in numeric_items.keys()\n",
    "}\n",
    "\n",
    "input_items.update({\n",
    "    colname : tf.keras.layers.Input(name=colname, shape=(),  dtype='string') \\\n",
    "          for colname in cat_items.keys()\n",
    "})"
   ]
  },
  {
   "cell_type": "code",
   "execution_count": 22,
   "metadata": {
    "executionInfo": {
     "elapsed": 189,
     "status": "ok",
     "timestamp": 1626094694291,
     "user": {
      "displayName": "Niloy Chakraborty",
      "photoUrl": "https://lh3.googleusercontent.com/a-/AOh14Gi2dxr3mDG4fGE3czm254OfGB1BBY7ZRnOb-1iTWg=s64",
      "userId": "03470181343480694484"
     },
     "user_tz": -120
    },
    "id": "kRzfnshO_YKR"
   },
   "outputs": [],
   "source": [
    "# Create a feature layer\n",
    "feature_layer_users = keras.layers.DenseFeatures(numeric_users.values())(input_user)\n",
    "feature_layer_items = keras.layers.DenseFeatures(numeric_items.values())(input_items)"
   ]
  },
  {
   "cell_type": "code",
   "execution_count": 23,
   "metadata": {
    "executionInfo": {
     "elapsed": 6,
     "status": "ok",
     "timestamp": 1626094696132,
     "user": {
      "displayName": "Niloy Chakraborty",
      "photoUrl": "https://lh3.googleusercontent.com/a-/AOh14Gi2dxr3mDG4fGE3czm254OfGB1BBY7ZRnOb-1iTWg=s64",
      "userId": "03470181343480694484"
     },
     "user_tz": -120
    },
    "id": "N04cYYnmd1mB"
   },
   "outputs": [],
   "source": [
    "CLASS_LABELS =  np.array([\"fit\",\"small\",\"large\"])\n"
   ]
  },
  {
   "cell_type": "code",
   "execution_count": 24,
   "metadata": {
    "executionInfo": {
     "elapsed": 225,
     "status": "ok",
     "timestamp": 1626094724837,
     "user": {
      "displayName": "Niloy Chakraborty",
      "photoUrl": "https://lh3.googleusercontent.com/a-/AOh14Gi2dxr3mDG4fGE3czm254OfGB1BBY7ZRnOb-1iTWg=s64",
      "userId": "03470181343480694484"
     },
     "user_tz": -120
    },
    "id": "alOngQHOd4R1"
   },
   "outputs": [],
   "source": [
    "# 2) Create a input pipeline using tf.data\n",
    "# A utility method to create a tf.data dataset from a Pandas Dataframe\n",
    "import copy\n",
    "def df_to_dataset(dataframe, shuffle=True, batch_size=32):\n",
    "  dataframe = dataframe.copy()\n",
    "  labels = dataframe.pop('fit')\n",
    "  labels = labels.apply(lambda x:x == CLASS_LABELS)\n",
    "  ds = tf.data.Dataset.from_tensor_slices((dict(dataframe), labels))\n",
    "  if shuffle:\n",
    "    ds = ds.shuffle(buffer_size=len(dataframe))\n",
    "  ds = ds.batch(batch_size)\n",
    "  #prefetching was giving some trouble on google colab,\n",
    "  #there might be some issue with some gdfs, hence not here\n",
    "  return ds"
   ]
  },
  {
   "cell_type": "code",
   "execution_count": 25,
   "metadata": {
    "executionInfo": {
     "elapsed": 190,
     "status": "ok",
     "timestamp": 1626094735251,
     "user": {
      "displayName": "Niloy Chakraborty",
      "photoUrl": "https://lh3.googleusercontent.com/a-/AOh14Gi2dxr3mDG4fGE3czm254OfGB1BBY7ZRnOb-1iTWg=s64",
      "userId": "03470181343480694484"
     },
     "user_tz": -120
    },
    "id": "EVWOz7xUsaTW"
   },
   "outputs": [],
   "source": [
    "class SkipCon(keras.layers.Layer):\n",
    "  def __init__(self, size, reduce = True, deep = 3, skip_when=0, activation=\"relu\", **kwargs):\n",
    "    \"\"\"\n",
    "    @Params\n",
    "    size = size of dense layer\n",
    "    deep = the depth of network in one SkipCon block call\n",
    "    skip_when =  if a skip connection is required, pass 1\n",
    "    activation = by default using relu, in the paper authors have used tanh(no reasons again)\n",
    "    \"\"\"    \n",
    "    super().__init__(**kwargs)\n",
    "    self.activation = keras.activations.get(activation) # used to combine\n",
    "    # skip connections and cascaded dense layers\n",
    "    self.main_layers =[]\n",
    "    self.skip_when = skip_when #to be used in call as a control\n",
    "    if reduce:\n",
    "      for _ in range(deep):\n",
    "        self.main_layers.extend([\n",
    "          keras.layers.Dense(size, activation=activation, \n",
    "                              use_bias=True),\n",
    "          keras.layers.BatchNormalization()])\n",
    "\n",
    "        # Reduce the input size by two each time, if the\n",
    "        # network is to be designed deeper and narrow\n",
    "        size = size/2\n",
    "    else:\n",
    "      for _ in range(deep):\n",
    "        self.main_layers.extend([\n",
    "        keras.layers.Dense(size, activation=activation, \n",
    "                            use_bias=True),\n",
    "        keras.layers.BatchNormalization()])\n",
    "        \n",
    "    self.skip_layers = []\n",
    "    if skip_when > 0:\n",
    "      if reduce:\n",
    "        size = size*2 # since the size of skipped connection  \n",
    "                      # should match with cascaded dense\n",
    "      self.skip_layers = [\n",
    "          keras.layers.Dense(size, activation=activation, \n",
    "                          use_bias=True),\n",
    "          keras.layers.BatchNormalization()]\n",
    "\n",
    "  def call(self, inputs):\n",
    "    Z = inputs\n",
    "    for layer in self.main_layers:\n",
    "      Z = layer(Z)\n",
    "    if not self.skip_when:\n",
    "      return self.activation(Z)\n",
    "    skip_Z = inputs\n",
    "    for layer in self.skip_layers:\n",
    "      skip_Z = layer(skip_Z)\n",
    "    return self.activation(Z + skip_Z)"
   ]
  },
  {
   "cell_type": "code",
   "execution_count": 26,
   "metadata": {
    "colab": {
     "base_uri": "https://localhost:8080/",
     "height": 645
    },
    "executionInfo": {
     "elapsed": 616,
     "status": "error",
     "timestamp": 1626094744772,
     "user": {
      "displayName": "Niloy Chakraborty",
      "photoUrl": "https://lh3.googleusercontent.com/a-/AOh14Gi2dxr3mDG4fGE3czm254OfGB1BBY7ZRnOb-1iTWg=s64",
      "userId": "03470181343480694484"
     },
     "user_tz": -120
    },
    "id": "cDDEHNjad7eh",
    "outputId": "8ea0c97f-5429-4b31-c893-e9b3ae91df7d"
   },
   "outputs": [],
   "source": [
    "batch_size = 512 # paper they have taken 2048 batch size, but no clear explanation\n",
    "# tanh activation is used, but i am using relu\n",
    "train_ds = df_to_dataset(train, batch_size=batch_size)\n",
    "val_ds = df_to_dataset(val, shuffle=False, batch_size=batch_size)"
   ]
  },
  {
   "cell_type": "code",
   "execution_count": 27,
   "metadata": {
    "executionInfo": {
     "elapsed": 9,
     "status": "aborted",
     "timestamp": 1626094482704,
     "user": {
      "displayName": "Niloy Chakraborty",
      "photoUrl": "https://lh3.googleusercontent.com/a-/AOh14Gi2dxr3mDG4fGE3czm254OfGB1BBY7ZRnOb-1iTWg=s64",
      "userId": "03470181343480694484"
     },
     "user_tz": -120
    },
    "id": "VAUduZ7U_izD"
   },
   "outputs": [],
   "source": [
    "user_layer = keras.layers.Dense(256, activation='relu', use_bias = True)(feature_layer_users)\n",
    "# Add a Skip Connection\n",
    "user_layer = SkipCon(size = 256, deep = 2, reduce = False, skip_when=1, activation=\"relu\")(user_layer)\n",
    "user_layer = keras.layers.Dropout(0.5)(user_layer) # Way to handle overfitting\n",
    "user_layer = SkipCon(size = 256, deep = 2, reduce = True, skip_when=1, activation=\"relu\")(user_layer)\n",
    "user_layer = keras.layers.Dropout(0.5)(user_layer)\n",
    "user_layer = SkipCon(size = 64, deep = 2, reduce = True, skip_when=0, activation=\"relu\")(user_layer)\n",
    "\n",
    "\n",
    "item_layer = keras.layers.Dense(256, activation='relu', use_bias = True)(feature_layer_items)\n",
    "# Add a Skip Connection\n",
    "item_layer = SkipCon(size = 256, deep = 2, reduce = False, skip_when=1, activation=\"relu\")(item_layer)\n",
    "item_layer = keras.layers.Dropout(0.5)(item_layer) # Way to handle overfitting\n",
    "item_layer = SkipCon(size = 256, deep = 2, reduce = True, skip_when=1, activation=\"relu\")(item_layer)\n",
    "item_layer = keras.layers.Dropout(0.5)(item_layer)\n",
    "item_layer = SkipCon(size = 64, deep = 2, reduce = True, skip_when=0, activation=\"relu\")(item_layer)\n",
    "\n",
    "\n",
    "# combine the output of the two branches\n",
    "combined = tf.concat([user_layer, item_layer], axis =-1)\n",
    "\n",
    "# The combined input should go through another set of skip connection non-linearity as per the paper\n",
    "both_layer = SkipCon(size = 128, deep = 2, reduce = False, skip_when=1, activation=\"relu\")(combined)\n",
    "both_layer = keras.layers.Dropout(0.5)(both_layer)\n",
    "both_layer = SkipCon(size = 64, deep = 2, reduce = False, skip_when=1, activation=\"relu\")(combined)\n",
    "both_layer = keras.layers.Dropout(0.5)(both_layer)\n",
    "both_layer = SkipCon(size = 16, deep = 2, reduce = False, skip_when=0, activation=\"relu\")(both_layer)\n",
    "\n",
    "z = keras.layers.Dense(3, activation=\"softmax\")(both_layer)\n",
    "\n",
    "model = keras.Model(inputs=[input_user, input_items], outputs=z)"
   ]
  },
  {
   "cell_type": "code",
   "execution_count": 28,
   "metadata": {
    "executionInfo": {
     "elapsed": 8,
     "status": "aborted",
     "timestamp": 1626094482705,
     "user": {
      "displayName": "Niloy Chakraborty",
      "photoUrl": "https://lh3.googleusercontent.com/a-/AOh14Gi2dxr3mDG4fGE3czm254OfGB1BBY7ZRnOb-1iTWg=s64",
      "userId": "03470181343480694484"
     },
     "user_tz": -120
    },
    "id": "2ygNP6uQ_lS7"
   },
   "outputs": [],
   "source": [
    "# Another control put in place to handle overfitting\n",
    "early_stopping = tf.keras.callbacks.EarlyStopping(\n",
    "    monitor='val_auc', \n",
    "    verbose=1,\n",
    "    patience=10,\n",
    "    mode='max',\n",
    "    restore_best_weights=True)\n",
    "\n",
    "METRICS = [\n",
    "      keras.metrics.TruePositives(name='tp'),\n",
    "      keras.metrics.FalsePositives(name='fp'),\n",
    "      keras.metrics.TrueNegatives(name='tn'),\n",
    "      keras.metrics.FalseNegatives(name='fn'), \n",
    "      keras.metrics.BinaryAccuracy(name='accuracy'),\n",
    "      keras.metrics.Precision(name='precision'),\n",
    "      keras.metrics.Recall(name='recall'),\n",
    "      keras.metrics.AUC(name='auc'),\n",
    "]\n",
    "optimizer = keras.optimizers.SGD(lr=0.1, momentum=0.9, decay=0.01)\n",
    "model.compile(optimizer= optimizer,\n",
    "              loss='categorical_crossentropy',\n",
    "              metrics=METRICS,\n",
    "              callbacks = [early_stopping])"
   ]
  },
  {
   "cell_type": "code",
   "execution_count": 29,
   "metadata": {
    "executionInfo": {
     "elapsed": 9,
     "status": "aborted",
     "timestamp": 1626094482706,
     "user": {
      "displayName": "Niloy Chakraborty",
      "photoUrl": "https://lh3.googleusercontent.com/a-/AOh14Gi2dxr3mDG4fGE3czm254OfGB1BBY7ZRnOb-1iTWg=s64",
      "userId": "03470181343480694484"
     },
     "user_tz": -120
    },
    "id": "qX-2Q9OKsxDj"
   },
   "outputs": [
    {
     "name": "stdout",
     "output_type": "stream",
     "text": [
      "Epoch 1/15\n",
      "112/112 [==============================] - 14s 122ms/step - loss: 0.8500 - tp: 38532.0000 - fp: 16664.0000 - tn: 97352.0000 - fn: 18476.0000 - accuracy: 0.7945 - precision: 0.6981 - recall: 0.6759 - auc: 0.7839 - val_loss: 0.0000e+00 - val_tp: 0.0000e+00 - val_fp: 0.0000e+00 - val_tn: 0.0000e+00 - val_fn: 0.0000e+00 - val_accuracy: 0.0000e+00 - val_precision: 0.0000e+00 - val_recall: 0.0000e+00 - val_auc: 0.0000e+00\n",
      "Epoch 2/15\n",
      "112/112 [==============================] - 9s 81ms/step - loss: 0.8074 - tp: 39692.0000 - fp: 16614.0000 - tn: 97402.0000 - fn: 17316.0000 - accuracy: 0.8016 - precision: 0.7049 - recall: 0.6963 - auc: 0.8002 - val_loss: 0.8289 - val_tp: 9933.0000 - val_fp: 4319.0000 - val_tn: 24185.0000 - val_fn: 4319.0000 - val_accuracy: 0.7980 - val_precision: 0.6970 - val_recall: 0.6970 - val_auc: 0.7919\n",
      "Epoch 3/15\n",
      "112/112 [==============================] - 12s 111ms/step - loss: 0.8029 - tp: 39678.0000 - fp: 16608.0000 - tn: 97408.0000 - fn: 17330.0000 - accuracy: 0.8016 - precision: 0.7049 - recall: 0.6960 - auc: 0.8057 - val_loss: 0.8156 - val_tp: 9933.0000 - val_fp: 4319.0000 - val_tn: 24185.0000 - val_fn: 4319.0000 - val_accuracy: 0.7980 - val_precision: 0.6970 - val_recall: 0.6970 - val_auc: 0.8026\n",
      "Epoch 4/15\n",
      "112/112 [==============================] - 12s 108ms/step - loss: 0.8001 - tp: 39636.0000 - fp: 16524.0000 - tn: 97492.0000 - fn: 17372.0000 - accuracy: 0.8018 - precision: 0.7058 - recall: 0.6953 - auc: 0.8090 - val_loss: 0.8082 - val_tp: 9933.0000 - val_fp: 4319.0000 - val_tn: 24185.0000 - val_fn: 4319.0000 - val_accuracy: 0.7980 - val_precision: 0.6970 - val_recall: 0.6970 - val_auc: 0.8081\n",
      "Epoch 5/15\n",
      "112/112 [==============================] - 13s 119ms/step - loss: 0.7993 - tp: 39613.0000 - fp: 16530.0000 - tn: 97486.0000 - fn: 17395.0000 - accuracy: 0.8016 - precision: 0.7056 - recall: 0.6949 - auc: 0.8108 - val_loss: 0.8047 - val_tp: 9927.0000 - val_fp: 4304.0000 - val_tn: 24200.0000 - val_fn: 4325.0000 - val_accuracy: 0.7982 - val_precision: 0.6976 - val_recall: 0.6965 - val_auc: 0.8121\n",
      "Epoch 6/15\n",
      "112/112 [==============================] - 15s 131ms/step - loss: 0.7982 - tp: 39573.0000 - fp: 16458.0000 - tn: 97558.0000 - fn: 17435.0000 - accuracy: 0.8018 - precision: 0.7063 - recall: 0.6942 - auc: 0.8114 - val_loss: 0.8042 - val_tp: 9927.0000 - val_fp: 4305.0000 - val_tn: 24199.0000 - val_fn: 4325.0000 - val_accuracy: 0.7982 - val_precision: 0.6975 - val_recall: 0.6965 - val_auc: 0.8123\n",
      "Epoch 7/15\n",
      "112/112 [==============================] - 17s 154ms/step - loss: 0.7965 - tp: 39586.0000 - fp: 16466.0000 - tn: 97550.0000 - fn: 17422.0000 - accuracy: 0.8019 - precision: 0.7062 - recall: 0.6944 - auc: 0.8136 - val_loss: 0.8029 - val_tp: 9926.0000 - val_fp: 4299.0000 - val_tn: 24205.0000 - val_fn: 4326.0000 - val_accuracy: 0.7983 - val_precision: 0.6978 - val_recall: 0.6965 - val_auc: 0.8129\n",
      "Epoch 8/15\n",
      "112/112 [==============================] - 16s 146ms/step - loss: 0.7956 - tp: 39546.0000 - fp: 16412.0000 - tn: 97604.0000 - fn: 17462.0000 - accuracy: 0.8019 - precision: 0.7067 - recall: 0.6937 - auc: 0.8137 - val_loss: 0.8022 - val_tp: 9926.0000 - val_fp: 4299.0000 - val_tn: 24205.0000 - val_fn: 4326.0000 - val_accuracy: 0.7983 - val_precision: 0.6978 - val_recall: 0.6965 - val_auc: 0.8135\n",
      "Epoch 9/15\n",
      "112/112 [==============================] - 16s 141ms/step - loss: 0.7959 - tp: 39606.0000 - fp: 16496.0000 - tn: 97520.0000 - fn: 17402.0000 - accuracy: 0.8018 - precision: 0.7060 - recall: 0.6947 - auc: 0.8140 - val_loss: 0.8018 - val_tp: 9926.0000 - val_fp: 4299.0000 - val_tn: 24205.0000 - val_fn: 4326.0000 - val_accuracy: 0.7983 - val_precision: 0.6978 - val_recall: 0.6965 - val_auc: 0.8139\n",
      "Epoch 10/15\n",
      "112/112 [==============================] - 29s 260ms/step - loss: 0.7954 - tp: 39482.0000 - fp: 16395.0000 - tn: 97621.0000 - fn: 17526.0000 - accuracy: 0.8017 - precision: 0.7066 - recall: 0.6926 - auc: 0.8144 - val_loss: 0.8019 - val_tp: 9926.0000 - val_fp: 4301.0000 - val_tn: 24203.0000 - val_fn: 4326.0000 - val_accuracy: 0.7982 - val_precision: 0.6977 - val_recall: 0.6965 - val_auc: 0.8144\n",
      "Epoch 11/15\n",
      "112/112 [==============================] - 24s 211ms/step - loss: 0.7949 - tp: 39584.0000 - fp: 16450.0000 - tn: 97566.0000 - fn: 17424.0000 - accuracy: 0.8019 - precision: 0.7064 - recall: 0.6944 - auc: 0.8149 - val_loss: 0.8015 - val_tp: 9926.0000 - val_fp: 4299.0000 - val_tn: 24205.0000 - val_fn: 4326.0000 - val_accuracy: 0.7983 - val_precision: 0.6978 - val_recall: 0.6965 - val_auc: 0.8144\n",
      "Epoch 12/15\n",
      "112/112 [==============================] - 24s 214ms/step - loss: 0.7946 - tp: 39571.0000 - fp: 16453.0000 - tn: 97563.0000 - fn: 17437.0000 - accuracy: 0.8018 - precision: 0.7063 - recall: 0.6941 - auc: 0.8150 - val_loss: 0.8007 - val_tp: 9921.0000 - val_fp: 4291.0000 - val_tn: 24213.0000 - val_fn: 4331.0000 - val_accuracy: 0.7983 - val_precision: 0.6981 - val_recall: 0.6961 - val_auc: 0.8150\n",
      "Epoch 13/15\n",
      "112/112 [==============================] - 21s 184ms/step - loss: 0.7937 - tp: 39475.0000 - fp: 16428.0000 - tn: 97588.0000 - fn: 17533.0000 - accuracy: 0.8014 - precision: 0.7061 - recall: 0.6924 - auc: 0.8162 - val_loss: 0.8007 - val_tp: 9926.0000 - val_fp: 4299.0000 - val_tn: 24205.0000 - val_fn: 4326.0000 - val_accuracy: 0.7983 - val_precision: 0.6978 - val_recall: 0.6965 - val_auc: 0.8148\n",
      "Epoch 14/15\n",
      "112/112 [==============================] - 18s 158ms/step - loss: 0.7936 - tp: 39585.0000 - fp: 16481.0000 - tn: 97535.0000 - fn: 17423.0000 - accuracy: 0.8018 - precision: 0.7060 - recall: 0.6944 - auc: 0.8158 - val_loss: 0.8004 - val_tp: 9926.0000 - val_fp: 4299.0000 - val_tn: 24205.0000 - val_fn: 4326.0000 - val_accuracy: 0.7983 - val_precision: 0.6978 - val_recall: 0.6965 - val_auc: 0.8151\n",
      "Epoch 15/15\n",
      "112/112 [==============================] - 18s 161ms/step - loss: 0.7942 - tp: 39575.0000 - fp: 16457.0000 - tn: 97559.0000 - fn: 17433.0000 - accuracy: 0.8018 - precision: 0.7063 - recall: 0.6942 - auc: 0.8157 - val_loss: 0.8005 - val_tp: 9926.0000 - val_fp: 4299.0000 - val_tn: 24205.0000 - val_fn: 4326.0000 - val_accuracy: 0.7983 - val_precision: 0.6978 - val_recall: 0.6965 - val_auc: 0.8152\n"
     ]
    }
   ],
   "source": [
    "history = model.fit(train_ds,\n",
    "          validation_data=val_ds,\n",
    "          epochs=15)"
   ]
  },
  {
   "cell_type": "code",
   "execution_count": 30,
   "metadata": {
    "executionInfo": {
     "elapsed": 9,
     "status": "aborted",
     "timestamp": 1626094482707,
     "user": {
      "displayName": "Niloy Chakraborty",
      "photoUrl": "https://lh3.googleusercontent.com/a-/AOh14Gi2dxr3mDG4fGE3czm254OfGB1BBY7ZRnOb-1iTWg=s64",
      "userId": "03470181343480694484"
     },
     "user_tz": -120
    },
    "id": "Vszgv7X__sNk"
   },
   "outputs": [
    {
     "data": {
      "image/png": "[encoded data removed]",
      "text/plain": [
       "<Figure size 1440x576 with 2 Axes>"
      ]
     },
     "metadata": {
      "needs_background": "light"
     },
     "output_type": "display_data"
    }
   ],
   "source": [
    "auc = history.history['auc']\n",
    "val_auc = history.history['val_auc']\n",
    "\n",
    "loss = history.history['loss']\n",
    "val_loss = history.history['val_loss']\n",
    "\n",
    "epochs_range = range(15)\n",
    "\n",
    "plt.subplot(1, 2, 1)\n",
    "plt.plot(epochs_range, auc, label='Training Accuracy')\n",
    "plt.plot(epochs_range, val_auc, label='Validation Accuracy')\n",
    "plt.legend(loc='lower right')\n",
    "plt.title('Training and Validation Accuracy')\n",
    "\n",
    "plt.subplot(1, 2, 2)\n",
    "plt.plot(epochs_range, loss, label='Training Loss')\n",
    "plt.plot(epochs_range, val_loss, label='Validation Loss')\n",
    "plt.legend(loc='upper right')\n",
    "plt.title('Training and Validation Loss')\n",
    "plt.show()"
   ]
  },
  {
   "cell_type": "code",
   "execution_count": null,
   "metadata": {},
   "outputs": [],
   "source": []
  }
 ],
 "metadata": {
  "colab": {
   "authorship_tag": "ABX9TyP8N0ZPaqWok/xnbMLtP8wY",
   "name": "Training.ipynb",
   "provenance": []
  },
  "kernelspec": {
   "display_name": "Python 3 (ipykernel)",
   "language": "python",
   "name": "python3"
  },
  "language_info": {
   "codemirror_mode": {
    "name": "ipython",
    "version": 3
   },
   "file_extension": ".py",
   "mimetype": "text/x-python",
   "name": "python",
   "nbconvert_exporter": "python",
   "pygments_lexer": "ipython3",
   "version": "3.7.6"
  }
 },
 "nbformat": 4,
 "nbformat_minor": 1
}