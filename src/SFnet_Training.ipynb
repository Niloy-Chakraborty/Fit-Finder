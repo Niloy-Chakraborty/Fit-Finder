{
 "cells": [
  {
   "cell_type": "code",
   "execution_count": 106,
   "metadata": {
    "executionInfo": {
     "elapsed": 200,
     "status": "ok",
     "timestamp": 1626094606600,
     "user": {
      "displayName": "Niloy Chakraborty",
      "photoUrl": "https://lh3.googleusercontent.com/a-/AOh14Gi2dxr3mDG4fGE3czm254OfGB1BBY7ZRnOb-1iTWg=s64",
      "userId": "03470181343480694484"
     },
     "user_tz": -120
    },
    "id": "c_5MENyJ98vH"
   },
   "outputs": [],
   "source": [
    "# basic libraries import\n",
    "import os\n",
    "import glob\n",
    "import sys\n",
    "import pandas as pd\n",
    "import numpy as np\n",
    "\n",
    "#reading data\n",
    "import json\n",
    "\n",
    "# Plotting libraries and parameters\n",
    "import matplotlib.pyplot as plt\n",
    "import seaborn as sns\n",
    "\n",
    "import matplotlib\n",
    "matplotlib.rc('figure', figsize = (20, 8))\n",
    "matplotlib.rc('axes.spines', top = False, right = False)\n",
    "matplotlib.rc('axes', facecolor = 'white')\n",
    "matplotlib.rc('axes', grid = False)\n",
    "matplotlib.rc('font', size = 14)\n",
    "try:\n",
    "  # %tensorflow_version only exists in Colab.\n",
    "  %tensorflow_version 2.x\n",
    "except Exception:\n",
    "  pass\n",
    "\n",
    "import tensorflow as tf\n",
    "from tensorflow import keras\n",
    "from tensorflow import feature_column\n",
    "from sklearn.model_selection import train_test_split\n",
    "from tensorflow.keras import layers\n"
   ]
  },
  {
   "cell_type": "code",
   "execution_count": 107,
   "metadata": {
    "colab": {
     "base_uri": "https://localhost:8080/"
    },
    "executionInfo": {
     "elapsed": 215,
     "status": "ok",
     "timestamp": 1626094614510,
     "user": {
      "displayName": "Niloy Chakraborty",
      "photoUrl": "https://lh3.googleusercontent.com/a-/AOh14Gi2dxr3mDG4fGE3czm254OfGB1BBY7ZRnOb-1iTWg=s64",
      "userId": "03470181343480694484"
     },
     "user_tz": -120
    },
    "id": "JvEG2YTr-dPn",
    "outputId": "a9ef4a11-38e1-44fc-8563-edda8ec0e016"
   },
   "outputs": [],
   "source": [
    "# from google.colab import drive\n",
    "# drive.mount('/gdrive')\n",
    "# %cd /gdrive/My Drive/Fit_Finder/"
   ]
  },
  {
   "cell_type": "code",
   "execution_count": 108,
   "metadata": {
    "executionInfo": {
     "elapsed": 192,
     "status": "ok",
     "timestamp": 1626094616212,
     "user": {
      "displayName": "Niloy Chakraborty",
      "photoUrl": "https://lh3.googleusercontent.com/a-/AOh14Gi2dxr3mDG4fGE3czm254OfGB1BBY7ZRnOb-1iTWg=s64",
      "userId": "03470181343480694484"
     },
     "user_tz": -120
    },
    "id": "bBybCj5h-eIj"
   },
   "outputs": [],
   "source": [
    "BASE_PATH = \"../Data/\"\n",
    "BASE_MODEL_PATH = \"../Model/\""
   ]
  },
  {
   "cell_type": "code",
   "execution_count": 109,
   "metadata": {
    "executionInfo": {
     "elapsed": 578,
     "status": "ok",
     "timestamp": 1626094618134,
     "user": {
      "displayName": "Niloy Chakraborty",
      "photoUrl": "https://lh3.googleusercontent.com/a-/AOh14Gi2dxr3mDG4fGE3czm254OfGB1BBY7ZRnOb-1iTWg=s64",
      "userId": "03470181343480694484"
     },
     "user_tz": -120
    },
    "id": "ZciNgF14-3eu"
   },
   "outputs": [],
   "source": [
    "df = pd.read_csv(BASE_PATH+\"processed_data.csv\")"
   ]
  },
  {
   "cell_type": "code",
   "execution_count": 110,
   "metadata": {
    "colab": {
     "base_uri": "https://localhost:8080/",
     "height": 206
    },
    "executionInfo": {
     "elapsed": 313,
     "status": "ok",
     "timestamp": 1626094619410,
     "user": {
      "displayName": "Niloy Chakraborty",
      "photoUrl": "https://lh3.googleusercontent.com/a-/AOh14Gi2dxr3mDG4fGE3czm254OfGB1BBY7ZRnOb-1iTWg=s64",
      "userId": "03470181343480694484"
     },
     "user_tz": -120
    },
    "id": "E5jSPY5cIiwZ",
    "outputId": "7bc0ad3c-8972-47d3-cbb1-9319c4b589b8"
   },
   "outputs": [
    {
     "data": {
      "text/html": [
       "<div>\n",
       "<style scoped>\n",
       "    .dataframe tbody tr th:only-of-type {\n",
       "        vertical-align: middle;\n",
       "    }\n",
       "\n",
       "    .dataframe tbody tr th {\n",
       "        vertical-align: top;\n",
       "    }\n",
       "\n",
       "    .dataframe thead th {\n",
       "        text-align: right;\n",
       "    }\n",
       "</style>\n",
       "<table border=\"1\" class=\"dataframe\">\n",
       "  <thead>\n",
       "    <tr style=\"text-align: right;\">\n",
       "      <th></th>\n",
       "      <th>Unnamed: 0</th>\n",
       "      <th>item_id</th>\n",
       "      <th>size</th>\n",
       "      <th>quality</th>\n",
       "      <th>cup_size</th>\n",
       "      <th>hips</th>\n",
       "      <th>bra_size</th>\n",
       "      <th>category</th>\n",
       "      <th>height</th>\n",
       "      <th>user_name</th>\n",
       "      <th>length</th>\n",
       "      <th>fit</th>\n",
       "      <th>review_text</th>\n",
       "    </tr>\n",
       "  </thead>\n",
       "  <tbody>\n",
       "    <tr>\n",
       "      <th>0</th>\n",
       "      <td>0</td>\n",
       "      <td>123373</td>\n",
       "      <td>7</td>\n",
       "      <td>5.0</td>\n",
       "      <td>d</td>\n",
       "      <td>M</td>\n",
       "      <td>34.0</td>\n",
       "      <td>new</td>\n",
       "      <td>167.64</td>\n",
       "      <td>emily</td>\n",
       "      <td>just right</td>\n",
       "      <td>small</td>\n",
       "      <td>Unknown</td>\n",
       "    </tr>\n",
       "    <tr>\n",
       "      <th>1</th>\n",
       "      <td>1</td>\n",
       "      <td>123373</td>\n",
       "      <td>13</td>\n",
       "      <td>3.0</td>\n",
       "      <td>b</td>\n",
       "      <td>XS</td>\n",
       "      <td>36.0</td>\n",
       "      <td>new</td>\n",
       "      <td>157.48</td>\n",
       "      <td>sydneybraden2001</td>\n",
       "      <td>just right</td>\n",
       "      <td>small</td>\n",
       "      <td>Unknown</td>\n",
       "    </tr>\n",
       "    <tr>\n",
       "      <th>2</th>\n",
       "      <td>2</td>\n",
       "      <td>123373</td>\n",
       "      <td>7</td>\n",
       "      <td>2.0</td>\n",
       "      <td>b</td>\n",
       "      <td>Unknown</td>\n",
       "      <td>32.0</td>\n",
       "      <td>new</td>\n",
       "      <td>170.18</td>\n",
       "      <td>ugggh</td>\n",
       "      <td>slightly long</td>\n",
       "      <td>small</td>\n",
       "      <td>Unknown</td>\n",
       "    </tr>\n",
       "    <tr>\n",
       "      <th>3</th>\n",
       "      <td>3</td>\n",
       "      <td>123373</td>\n",
       "      <td>21</td>\n",
       "      <td>5.0</td>\n",
       "      <td>dd/e</td>\n",
       "      <td>Unknown</td>\n",
       "      <td>36.0</td>\n",
       "      <td>new</td>\n",
       "      <td>165.10</td>\n",
       "      <td>alexmeyer626</td>\n",
       "      <td>just right</td>\n",
       "      <td>fit</td>\n",
       "      <td>Unknown</td>\n",
       "    </tr>\n",
       "    <tr>\n",
       "      <th>4</th>\n",
       "      <td>4</td>\n",
       "      <td>123373</td>\n",
       "      <td>18</td>\n",
       "      <td>5.0</td>\n",
       "      <td>b</td>\n",
       "      <td>Unknown</td>\n",
       "      <td>36.0</td>\n",
       "      <td>new</td>\n",
       "      <td>157.48</td>\n",
       "      <td>dberrones1</td>\n",
       "      <td>slightly long</td>\n",
       "      <td>small</td>\n",
       "      <td>Unknown</td>\n",
       "    </tr>\n",
       "  </tbody>\n",
       "</table>\n",
       "</div>"
      ],
      "text/plain": [
       "   Unnamed: 0  item_id  size  quality cup_size     hips  bra_size category  \\\n",
       "0           0   123373     7      5.0        d        M      34.0      new   \n",
       "1           1   123373    13      3.0        b       XS      36.0      new   \n",
       "2           2   123373     7      2.0        b  Unknown      32.0      new   \n",
       "3           3   123373    21      5.0     dd/e  Unknown      36.0      new   \n",
       "4           4   123373    18      5.0        b  Unknown      36.0      new   \n",
       "\n",
       "   height         user_name         length    fit review_text  \n",
       "0  167.64             emily     just right  small     Unknown  \n",
       "1  157.48  sydneybraden2001     just right  small     Unknown  \n",
       "2  170.18             ugggh  slightly long  small     Unknown  \n",
       "3  165.10      alexmeyer626     just right    fit     Unknown  \n",
       "4  157.48        dberrones1  slightly long  small     Unknown  "
      ]
     },
     "execution_count": 110,
     "metadata": {},
     "output_type": "execute_result"
    }
   ],
   "source": [
    "df.head()"
   ]
  },
  {
   "cell_type": "code",
   "execution_count": 111,
   "metadata": {
    "executionInfo": {
     "elapsed": 193,
     "status": "ok",
     "timestamp": 1626094621094,
     "user": {
      "displayName": "Niloy Chakraborty",
      "photoUrl": "https://lh3.googleusercontent.com/a-/AOh14Gi2dxr3mDG4fGE3czm254OfGB1BBY7ZRnOb-1iTWg=s64",
      "userId": "03470181343480694484"
     },
     "user_tz": -120
    },
    "id": "MxY4wQowIoxn"
   },
   "outputs": [],
   "source": [
    "df = df.drop(\"Unnamed: 0\",axis =1)"
   ]
  },
  {
   "cell_type": "code",
   "execution_count": 112,
   "metadata": {
    "colab": {
     "base_uri": "https://localhost:8080/",
     "height": 206
    },
    "executionInfo": {
     "elapsed": 334,
     "status": "ok",
     "timestamp": 1626094622478,
     "user": {
      "displayName": "Niloy Chakraborty",
      "photoUrl": "https://lh3.googleusercontent.com/a-/AOh14Gi2dxr3mDG4fGE3czm254OfGB1BBY7ZRnOb-1iTWg=s64",
      "userId": "03470181343480694484"
     },
     "user_tz": -120
    },
    "id": "bwGI1mWcIwlw",
    "outputId": "5b4fdf61-8ed3-4fa5-f6b7-83781fa8ae01"
   },
   "outputs": [
    {
     "data": {
      "text/html": [
       "<div>\n",
       "<style scoped>\n",
       "    .dataframe tbody tr th:only-of-type {\n",
       "        vertical-align: middle;\n",
       "    }\n",
       "\n",
       "    .dataframe tbody tr th {\n",
       "        vertical-align: top;\n",
       "    }\n",
       "\n",
       "    .dataframe thead th {\n",
       "        text-align: right;\n",
       "    }\n",
       "</style>\n",
       "<table border=\"1\" class=\"dataframe\">\n",
       "  <thead>\n",
       "    <tr style=\"text-align: right;\">\n",
       "      <th></th>\n",
       "      <th>item_id</th>\n",
       "      <th>size</th>\n",
       "      <th>quality</th>\n",
       "      <th>cup_size</th>\n",
       "      <th>hips</th>\n",
       "      <th>bra_size</th>\n",
       "      <th>category</th>\n",
       "      <th>height</th>\n",
       "      <th>user_name</th>\n",
       "      <th>length</th>\n",
       "      <th>fit</th>\n",
       "      <th>review_text</th>\n",
       "    </tr>\n",
       "  </thead>\n",
       "  <tbody>\n",
       "    <tr>\n",
       "      <th>0</th>\n",
       "      <td>123373</td>\n",
       "      <td>7</td>\n",
       "      <td>5.0</td>\n",
       "      <td>d</td>\n",
       "      <td>M</td>\n",
       "      <td>34.0</td>\n",
       "      <td>new</td>\n",
       "      <td>167.64</td>\n",
       "      <td>emily</td>\n",
       "      <td>just right</td>\n",
       "      <td>small</td>\n",
       "      <td>Unknown</td>\n",
       "    </tr>\n",
       "    <tr>\n",
       "      <th>1</th>\n",
       "      <td>123373</td>\n",
       "      <td>13</td>\n",
       "      <td>3.0</td>\n",
       "      <td>b</td>\n",
       "      <td>XS</td>\n",
       "      <td>36.0</td>\n",
       "      <td>new</td>\n",
       "      <td>157.48</td>\n",
       "      <td>sydneybraden2001</td>\n",
       "      <td>just right</td>\n",
       "      <td>small</td>\n",
       "      <td>Unknown</td>\n",
       "    </tr>\n",
       "    <tr>\n",
       "      <th>2</th>\n",
       "      <td>123373</td>\n",
       "      <td>7</td>\n",
       "      <td>2.0</td>\n",
       "      <td>b</td>\n",
       "      <td>Unknown</td>\n",
       "      <td>32.0</td>\n",
       "      <td>new</td>\n",
       "      <td>170.18</td>\n",
       "      <td>ugggh</td>\n",
       "      <td>slightly long</td>\n",
       "      <td>small</td>\n",
       "      <td>Unknown</td>\n",
       "    </tr>\n",
       "    <tr>\n",
       "      <th>3</th>\n",
       "      <td>123373</td>\n",
       "      <td>21</td>\n",
       "      <td>5.0</td>\n",
       "      <td>dd/e</td>\n",
       "      <td>Unknown</td>\n",
       "      <td>36.0</td>\n",
       "      <td>new</td>\n",
       "      <td>165.10</td>\n",
       "      <td>alexmeyer626</td>\n",
       "      <td>just right</td>\n",
       "      <td>fit</td>\n",
       "      <td>Unknown</td>\n",
       "    </tr>\n",
       "    <tr>\n",
       "      <th>4</th>\n",
       "      <td>123373</td>\n",
       "      <td>18</td>\n",
       "      <td>5.0</td>\n",
       "      <td>b</td>\n",
       "      <td>Unknown</td>\n",
       "      <td>36.0</td>\n",
       "      <td>new</td>\n",
       "      <td>157.48</td>\n",
       "      <td>dberrones1</td>\n",
       "      <td>slightly long</td>\n",
       "      <td>small</td>\n",
       "      <td>Unknown</td>\n",
       "    </tr>\n",
       "  </tbody>\n",
       "</table>\n",
       "</div>"
      ],
      "text/plain": [
       "   item_id  size  quality cup_size     hips  bra_size category  height  \\\n",
       "0   123373     7      5.0        d        M      34.0      new  167.64   \n",
       "1   123373    13      3.0        b       XS      36.0      new  157.48   \n",
       "2   123373     7      2.0        b  Unknown      32.0      new  170.18   \n",
       "3   123373    21      5.0     dd/e  Unknown      36.0      new  165.10   \n",
       "4   123373    18      5.0        b  Unknown      36.0      new  157.48   \n",
       "\n",
       "          user_name         length    fit review_text  \n",
       "0             emily     just right  small     Unknown  \n",
       "1  sydneybraden2001     just right  small     Unknown  \n",
       "2             ugggh  slightly long  small     Unknown  \n",
       "3      alexmeyer626     just right    fit     Unknown  \n",
       "4        dberrones1  slightly long  small     Unknown  "
      ]
     },
     "execution_count": 112,
     "metadata": {},
     "output_type": "execute_result"
    }
   ],
   "source": [
    "df.head()\n"
   ]
  },
  {
   "cell_type": "code",
   "execution_count": 113,
   "metadata": {
    "executionInfo": {
     "elapsed": 191,
     "status": "ok",
     "timestamp": 1626094624151,
     "user": {
      "displayName": "Niloy Chakraborty",
      "photoUrl": "https://lh3.googleusercontent.com/a-/AOh14Gi2dxr3mDG4fGE3czm254OfGB1BBY7ZRnOb-1iTWg=s64",
      "userId": "03470181343480694484"
     },
     "user_tz": -120
    },
    "id": "jnxEfpME_INJ"
   },
   "outputs": [],
   "source": [
    "# Split into train and validation dataset, i am not showing any performance on \n",
    "# test dataset for now,\n",
    "df  = df.drop(\"review_text\",axis=1)\n",
    "train, val = train_test_split(df, test_size=0.2)"
   ]
  },
  {
   "cell_type": "code",
   "execution_count": 114,
   "metadata": {
    "executionInfo": {
     "elapsed": 186,
     "status": "ok",
     "timestamp": 1626094639909,
     "user": {
      "displayName": "Niloy Chakraborty",
      "photoUrl": "https://lh3.googleusercontent.com/a-/AOh14Gi2dxr3mDG4fGE3czm254OfGB1BBY7ZRnOb-1iTWg=s64",
      "userId": "03470181343480694484"
     },
     "user_tz": -120
    },
    "id": "a9krSxV-_MLY"
   },
   "outputs": [],
   "source": [
    "user_categorical_features = [\"user_name\",\"hips\",\"cup_size\"]\n",
    "user_numerical_features = [\"height\",\"bra_size\"]\n",
    "item_categorical_features = [\"item_id\", \"category\", \"length\"]\n",
    "item_numerical_features = [\"size\",\"quality\"]"
   ]
  },
  {
   "cell_type": "code",
   "execution_count": 115,
   "metadata": {
    "executionInfo": {
     "elapsed": 195,
     "status": "ok",
     "timestamp": 1626094642266,
     "user": {
      "displayName": "Niloy Chakraborty",
      "photoUrl": "https://lh3.googleusercontent.com/a-/AOh14Gi2dxr3mDG4fGE3czm254OfGB1BBY7ZRnOb-1iTWg=s64",
      "userId": "03470181343480694484"
     },
     "user_tz": -120
    },
    "id": "vMUAxNRw_N78"
   },
   "outputs": [],
   "source": [
    "# Scaling the numerical features\n",
    "from sklearn import preprocessing\n",
    "scaler = preprocessing.MinMaxScaler().fit(train[[\"height\",\"bra_size\",\"size\",\"quality\"]])"
   ]
  },
  {
   "cell_type": "code",
   "execution_count": 116,
   "metadata": {
    "colab": {
     "base_uri": "https://localhost:8080/"
    },
    "executionInfo": {
     "elapsed": 197,
     "status": "ok",
     "timestamp": 1626094655141,
     "user": {
      "displayName": "Niloy Chakraborty",
      "photoUrl": "https://lh3.googleusercontent.com/a-/AOh14Gi2dxr3mDG4fGE3czm254OfGB1BBY7ZRnOb-1iTWg=s64",
      "userId": "03470181343480694484"
     },
     "user_tz": -120
    },
    "id": "c-_ggVPm_Pvz",
    "outputId": "e9116ad6-46f4-4306-c396-1a67019daa9a"
   },
   "outputs": [
    {
     "name": "stderr",
     "output_type": "stream",
     "text": [
      "c:\\users\\int004889\\appdata\\local\\programs\\python\\python37\\lib\\site-packages\\pandas\\core\\frame.py:3607: SettingWithCopyWarning: \n",
      "A value is trying to be set on a copy of a slice from a DataFrame.\n",
      "Try using .loc[row_indexer,col_indexer] = value instead\n",
      "\n",
      "See the caveats in the documentation: https://pandas.pydata.org/pandas-docs/stable/user_guide/indexing.html#returning-a-view-versus-a-copy\n",
      "  self._set_item(key, value)\n",
      "c:\\users\\int004889\\appdata\\local\\programs\\python\\python37\\lib\\site-packages\\pandas\\core\\frame.py:3607: SettingWithCopyWarning: \n",
      "A value is trying to be set on a copy of a slice from a DataFrame.\n",
      "Try using .loc[row_indexer,col_indexer] = value instead\n",
      "\n",
      "See the caveats in the documentation: https://pandas.pydata.org/pandas-docs/stable/user_guide/indexing.html#returning-a-view-versus-a-copy\n",
      "  self._set_item(key, value)\n"
     ]
    }
   ],
   "source": [
    "train[[\"height\",\"bra_size\",\"size\",\"quality\"]] = scaler.transform(train[[\"height\",\"bra_size\",\"size\",\"quality\"]])\n",
    "val[[\"height\",\"bra_size\",\"size\",\"quality\"]] = scaler.transform(val[[\"height\",\"bra_size\",\"size\",\"quality\"]])"
   ]
  },
  {
   "cell_type": "code",
   "execution_count": 117,
   "metadata": {
    "executionInfo": {
     "elapsed": 234,
     "status": "ok",
     "timestamp": 1626094669482,
     "user": {
      "displayName": "Niloy Chakraborty",
      "photoUrl": "https://lh3.googleusercontent.com/a-/AOh14Gi2dxr3mDG4fGE3czm254OfGB1BBY7ZRnOb-1iTWg=s64",
      "userId": "03470181343480694484"
     },
     "user_tz": -120
    },
    "id": "1fhzzdER_SlV"
   },
   "outputs": [],
   "source": [
    "for col in user_categorical_features + item_categorical_features:\n",
    "  df[col] = df[col].astype(str)"
   ]
  },
  {
   "cell_type": "code",
   "execution_count": 118,
   "metadata": {
    "executionInfo": {
     "elapsed": 271,
     "status": "ok",
     "timestamp": 1626094680162,
     "user": {
      "displayName": "Niloy Chakraborty",
      "photoUrl": "https://lh3.googleusercontent.com/a-/AOh14Gi2dxr3mDG4fGE3czm254OfGB1BBY7ZRnOb-1iTWg=s64",
      "userId": "03470181343480694484"
     },
     "user_tz": -120
    },
    "id": "Jgjfc85O_XXR"
   },
   "outputs": [],
   "source": [
    "# 1) Create feature columns for ingestion into NN\n",
    "\n",
    "# Numeric Columns\n",
    "numeric_users = {\n",
    "    col : feature_column.numeric_column(col) \\\n",
    "          for col in user_numerical_features\n",
    "}\n",
    "numeric_items = {\n",
    "    col : feature_column.numeric_column(col) \\\n",
    "          for col in item_numerical_features\n",
    "}\n",
    "\n",
    "# Categorical Columns\n",
    "# Now categorical columns can be encoded into one-hot vectors and fed into NN\n",
    "# But the paper has used embedding and hence we can use the same (generally used for\n",
    "# a categroical feature with lots of categories, but let us see)\n",
    "\n",
    "hips = feature_column.categorical_column_with_vocabulary_list(\n",
    "      'hips', df.hips.unique().tolist())\n",
    "cup_size = feature_column.categorical_column_with_vocabulary_list(\n",
    "      'cup_size', df.cup_size.unique().tolist())\n",
    "user_name = feature_column.categorical_column_with_vocabulary_list(\n",
    "      'user_name', df.user_name.unique().tolist())\n",
    "\n",
    "\n",
    "\n",
    "item_id = feature_column.categorical_column_with_vocabulary_list(\n",
    "      'item_id', df.item_id.unique().tolist())\n",
    "category = feature_column.categorical_column_with_vocabulary_list(\n",
    "      'category', df.category.unique().tolist())\n",
    "length = feature_column.categorical_column_with_vocabulary_list(\n",
    "      'length', df.length.unique().tolist())\n",
    "\n",
    "# There are 6 dimension hyperparameters to be given here which is a lot,\n",
    "# hence for now i am giving these values, later we will see if we can\n",
    "# somehow guide the decision via cross-val\n",
    "hips_embedding = feature_column.embedding_column(hips, dimension=5)\n",
    "cup_size_embedding = feature_column.embedding_column(cup_size, dimension=5)\n",
    "user_name_embedding = feature_column.embedding_column(user_name, dimension=50)\n",
    "item_id_embedding = feature_column.embedding_column(item_id, dimension=50)\n",
    "category_embedding = feature_column.embedding_column(category, dimension=5)\n",
    "length_embedding = feature_column.embedding_column(length, dimension=5)\n",
    "\n",
    "cat_users = {\n",
    "    'hips' : hips_embedding,\n",
    "    'cup_size' : cup_size_embedding,\n",
    "    'user_name': user_name_embedding\n",
    "}\n",
    "\n",
    "cat_items = {\n",
    "    'item_id' : item_id_embedding,\n",
    "    'category' : category_embedding,\n",
    "    'length': length_embedding\n",
    "}\n",
    "\n",
    "input_user = {\n",
    "    colname : tf.keras.layers.Input(name=colname, shape=(), dtype='float32') \\\n",
    "          for colname in numeric_users.keys()\n",
    "}\n",
    "input_user.update({\n",
    "    colname : tf.keras.layers.Input(name=colname, shape=(),  dtype='string') \\\n",
    "          for colname in cat_users.keys()\n",
    "})\n",
    "\n",
    "input_items = {\n",
    "    colname : tf.keras.layers.Input(name=colname, shape=(), dtype = 'float32') \\\n",
    "          for colname in numeric_items.keys()\n",
    "}\n",
    "\n",
    "input_items.update({\n",
    "    colname : tf.keras.layers.Input(name=colname, shape=(),  dtype='string') \\\n",
    "          for colname in cat_items.keys()\n",
    "})"
   ]
  },
  {
   "cell_type": "code",
   "execution_count": 119,
   "metadata": {
    "executionInfo": {
     "elapsed": 189,
     "status": "ok",
     "timestamp": 1626094694291,
     "user": {
      "displayName": "Niloy Chakraborty",
      "photoUrl": "https://lh3.googleusercontent.com/a-/AOh14Gi2dxr3mDG4fGE3czm254OfGB1BBY7ZRnOb-1iTWg=s64",
      "userId": "03470181343480694484"
     },
     "user_tz": -120
    },
    "id": "kRzfnshO_YKR"
   },
   "outputs": [],
   "source": [
    "# Create a feature layer\n",
    "feature_layer_users = keras.layers.DenseFeatures(numeric_users.values())(input_user)\n",
    "feature_layer_items = keras.layers.DenseFeatures(numeric_items.values())(input_items)"
   ]
  },
  {
   "cell_type": "code",
   "execution_count": 120,
   "metadata": {
    "executionInfo": {
     "elapsed": 6,
     "status": "ok",
     "timestamp": 1626094696132,
     "user": {
      "displayName": "Niloy Chakraborty",
      "photoUrl": "https://lh3.googleusercontent.com/a-/AOh14Gi2dxr3mDG4fGE3czm254OfGB1BBY7ZRnOb-1iTWg=s64",
      "userId": "03470181343480694484"
     },
     "user_tz": -120
    },
    "id": "N04cYYnmd1mB"
   },
   "outputs": [],
   "source": [
    "CLASS_LABELS =  np.array([\"fit\",\"small\",\"large\"])\n"
   ]
  },
  {
   "cell_type": "code",
   "execution_count": 121,
   "metadata": {
    "executionInfo": {
     "elapsed": 225,
     "status": "ok",
     "timestamp": 1626094724837,
     "user": {
      "displayName": "Niloy Chakraborty",
      "photoUrl": "https://lh3.googleusercontent.com/a-/AOh14Gi2dxr3mDG4fGE3czm254OfGB1BBY7ZRnOb-1iTWg=s64",
      "userId": "03470181343480694484"
     },
     "user_tz": -120
    },
    "id": "alOngQHOd4R1"
   },
   "outputs": [],
   "source": [
    "# 2) Create a input pipeline using tf.data\n",
    "# A utility method to create a tf.data dataset from a Pandas Dataframe\n",
    "import copy\n",
    "def df_to_dataset(dataframe, shuffle=True, batch_size=32):\n",
    "  dataframe = dataframe.copy()\n",
    "  labels = dataframe.pop('fit')\n",
    "  labels = labels.apply(lambda x:x == CLASS_LABELS)\n",
    "  ds = tf.data.Dataset.from_tensor_slices((dict(dataframe), labels))\n",
    "  if shuffle:\n",
    "    ds = ds.shuffle(buffer_size=len(dataframe))\n",
    "  ds = ds.batch(batch_size)\n",
    "  #prefetching was giving some trouble on google colab,\n",
    "  #there might be some issue with some gdfs, hence not here\n",
    "  return ds"
   ]
  },
  {
   "cell_type": "code",
   "execution_count": 122,
   "metadata": {
    "executionInfo": {
     "elapsed": 190,
     "status": "ok",
     "timestamp": 1626094735251,
     "user": {
      "displayName": "Niloy Chakraborty",
      "photoUrl": "https://lh3.googleusercontent.com/a-/AOh14Gi2dxr3mDG4fGE3czm254OfGB1BBY7ZRnOb-1iTWg=s64",
      "userId": "03470181343480694484"
     },
     "user_tz": -120
    },
    "id": "EVWOz7xUsaTW"
   },
   "outputs": [],
   "source": [
    "class SkipCon(keras.layers.Layer):\n",
    "  def __init__(self, size, reduce = True, deep = 3, skip_when=0, activation=\"relu\", **kwargs):\n",
    "    \"\"\"\n",
    "    @Params\n",
    "    size = size of dense layer\n",
    "    deep = the depth of network in one SkipCon block call\n",
    "    skip_when =  if a skip connection is required, pass 1\n",
    "    activation = by default using relu, in the paper authors have used tanh(no reasons again)\n",
    "    \"\"\"    \n",
    "    super().__init__(**kwargs)\n",
    "    self.activation = keras.activations.get(activation) # used to combine\n",
    "    # skip connections and cascaded dense layers\n",
    "    self.main_layers =[]\n",
    "    self.skip_when = skip_when #to be used in call as a control\n",
    "    if reduce:\n",
    "      for _ in range(deep):\n",
    "        self.main_layers.extend([\n",
    "          keras.layers.Dense(size, activation=activation, \n",
    "                              use_bias=True),\n",
    "          keras.layers.BatchNormalization()])\n",
    "\n",
    "        # Reduce the input size by two each time, if the\n",
    "        # network is to be designed deeper and narrow\n",
    "        size = size/2\n",
    "    else:\n",
    "      for _ in range(deep):\n",
    "        self.main_layers.extend([\n",
    "        keras.layers.Dense(size, activation=activation, \n",
    "                            use_bias=True),\n",
    "        keras.layers.BatchNormalization()])\n",
    "        \n",
    "    self.skip_layers = []\n",
    "    if skip_when > 0:\n",
    "      if reduce:\n",
    "        size = size*2 # since the size of skipped connection  \n",
    "                      # should match with cascaded dense\n",
    "      self.skip_layers = [\n",
    "          keras.layers.Dense(size, activation=activation, \n",
    "                          use_bias=True),\n",
    "          keras.layers.BatchNormalization()]\n",
    "\n",
    "  def call(self, inputs):\n",
    "    Z = inputs\n",
    "    for layer in self.main_layers:\n",
    "      Z = layer(Z)\n",
    "    if not self.skip_when:\n",
    "      return self.activation(Z)\n",
    "    skip_Z = inputs\n",
    "    for layer in self.skip_layers:\n",
    "      skip_Z = layer(skip_Z)\n",
    "    return self.activation(Z + skip_Z)"
   ]
  },
  {
   "cell_type": "code",
   "execution_count": 123,
   "metadata": {
    "colab": {
     "base_uri": "https://localhost:8080/",
     "height": 645
    },
    "executionInfo": {
     "elapsed": 616,
     "status": "error",
     "timestamp": 1626094744772,
     "user": {
      "displayName": "Niloy Chakraborty",
      "photoUrl": "https://lh3.googleusercontent.com/a-/AOh14Gi2dxr3mDG4fGE3czm254OfGB1BBY7ZRnOb-1iTWg=s64",
      "userId": "03470181343480694484"
     },
     "user_tz": -120
    },
    "id": "cDDEHNjad7eh",
    "outputId": "8ea0c97f-5429-4b31-c893-e9b3ae91df7d"
   },
   "outputs": [],
   "source": [
    "batch_size = 512 # paper they have taken 2048 batch size, but no clear explanation\n",
    "# tanh activation is used, but i am using relu\n",
    "train_ds = df_to_dataset(train, batch_size=batch_size)\n",
    "val_ds = df_to_dataset(val, shuffle=False, batch_size=batch_size)"
   ]
  },
  {
   "cell_type": "code",
   "execution_count": 124,
   "metadata": {
    "executionInfo": {
     "elapsed": 9,
     "status": "aborted",
     "timestamp": 1626094482704,
     "user": {
      "displayName": "Niloy Chakraborty",
      "photoUrl": "https://lh3.googleusercontent.com/a-/AOh14Gi2dxr3mDG4fGE3czm254OfGB1BBY7ZRnOb-1iTWg=s64",
      "userId": "03470181343480694484"
     },
     "user_tz": -120
    },
    "id": "VAUduZ7U_izD"
   },
   "outputs": [],
   "source": [
    "user_layer = keras.layers.Dense(256, activation='relu', use_bias = True)(feature_layer_users)\n",
    "# Add a Skip Connection\n",
    "user_layer = SkipCon(size = 256, deep = 2, reduce = False, skip_when=1, activation=\"relu\")(user_layer)\n",
    "user_layer = keras.layers.Dropout(0.5)(user_layer) # Way to handle overfitting\n",
    "user_layer = SkipCon(size = 256, deep = 2, reduce = True, skip_when=1, activation=\"relu\")(user_layer)\n",
    "user_layer = keras.layers.Dropout(0.5)(user_layer)\n",
    "user_layer = SkipCon(size = 64, deep = 2, reduce = True, skip_when=0, activation=\"relu\")(user_layer)\n",
    "\n",
    "\n",
    "item_layer = keras.layers.Dense(256, activation='relu', use_bias = True)(feature_layer_items)\n",
    "# Add a Skip Connection\n",
    "item_layer = SkipCon(size = 256, deep = 2, reduce = False, skip_when=1, activation=\"relu\")(item_layer)\n",
    "item_layer = keras.layers.Dropout(0.5)(item_layer) # Way to handle overfitting\n",
    "item_layer = SkipCon(size = 256, deep = 2, reduce = True, skip_when=1, activation=\"relu\")(item_layer)\n",
    "item_layer = keras.layers.Dropout(0.5)(item_layer)\n",
    "item_layer = SkipCon(size = 64, deep = 2, reduce = True, skip_when=0, activation=\"relu\")(item_layer)\n",
    "\n",
    "\n",
    "# combine the output of the two branches\n",
    "combined = tf.concat([user_layer, item_layer], axis =-1)\n",
    "\n",
    "# The combined input should go through another set of skip connection non-linearity as per the paper\n",
    "both_layer = SkipCon(size = 128, deep = 2, reduce = False, skip_when=1, activation=\"relu\")(combined)\n",
    "both_layer = keras.layers.Dropout(0.5)(both_layer)\n",
    "both_layer = SkipCon(size = 64, deep = 2, reduce = False, skip_when=1, activation=\"relu\")(combined)\n",
    "both_layer = keras.layers.Dropout(0.5)(both_layer)\n",
    "both_layer = SkipCon(size = 16, deep = 2, reduce = False, skip_when=0, activation=\"relu\")(both_layer)\n",
    "\n",
    "z = keras.layers.Dense(3, activation=\"softmax\")(both_layer)\n",
    "\n",
    "model = keras.Model(inputs=[input_user, input_items], outputs=z)"
   ]
  },
  {
   "cell_type": "code",
   "execution_count": 125,
   "metadata": {
    "scrolled": true
   },
   "outputs": [
    {
     "name": "stdout",
     "output_type": "stream",
     "text": [
      "Model: \"model_5\"\n",
      "__________________________________________________________________________________________________\n",
      "Layer (type)                    Output Shape         Param #     Connected to                     \n",
      "==================================================================================================\n",
      "bra_size (InputLayer)           [(None,)]            0                                            \n",
      "__________________________________________________________________________________________________\n",
      "cup_size (InputLayer)           [(None,)]            0                                            \n",
      "__________________________________________________________________________________________________\n",
      "height (InputLayer)             [(None,)]            0                                            \n",
      "__________________________________________________________________________________________________\n",
      "hips (InputLayer)               [(None,)]            0                                            \n",
      "__________________________________________________________________________________________________\n",
      "user_name (InputLayer)          [(None,)]            0                                            \n",
      "__________________________________________________________________________________________________\n",
      "category (InputLayer)           [(None,)]            0                                            \n",
      "__________________________________________________________________________________________________\n",
      "item_id (InputLayer)            [(None,)]            0                                            \n",
      "__________________________________________________________________________________________________\n",
      "length (InputLayer)             [(None,)]            0                                            \n",
      "__________________________________________________________________________________________________\n",
      "quality (InputLayer)            [(None,)]            0                                            \n",
      "__________________________________________________________________________________________________\n",
      "size (InputLayer)               [(None,)]            0                                            \n",
      "__________________________________________________________________________________________________\n",
      "dense_features_6 (DenseFeatures (None, 2)            0           bra_size[0][0]                   \n",
      "                                                                 cup_size[0][0]                   \n",
      "                                                                 height[0][0]                     \n",
      "                                                                 hips[0][0]                       \n",
      "                                                                 user_name[0][0]                  \n",
      "__________________________________________________________________________________________________\n",
      "dense_features_7 (DenseFeatures (None, 2)            0           category[0][0]                   \n",
      "                                                                 item_id[0][0]                    \n",
      "                                                                 length[0][0]                     \n",
      "                                                                 quality[0][0]                    \n",
      "                                                                 size[0][0]                       \n",
      "__________________________________________________________________________________________________\n",
      "dense_135 (Dense)               (None, 256)          768         dense_features_6[0][0]           \n",
      "__________________________________________________________________________________________________\n",
      "dense_144 (Dense)               (None, 256)          768         dense_features_7[0][0]           \n",
      "__________________________________________________________________________________________________\n",
      "skip_con_45 (SkipCon)           (None, 256)          200448      dense_135[0][0]                  \n",
      "__________________________________________________________________________________________________\n",
      "skip_con_48 (SkipCon)           (None, 256)          200448      dense_144[0][0]                  \n",
      "__________________________________________________________________________________________________\n",
      "dropout_30 (Dropout)            (None, 256)          0           skip_con_45[0][0]                \n",
      "__________________________________________________________________________________________________\n",
      "dropout_32 (Dropout)            (None, 256)          0           skip_con_48[0][0]                \n",
      "__________________________________________________________________________________________________\n",
      "skip_con_46 (SkipCon)           (None, 128)          133632      dropout_30[0][0]                 \n",
      "__________________________________________________________________________________________________\n",
      "skip_con_49 (SkipCon)           (None, 128)          133632      dropout_32[0][0]                 \n",
      "__________________________________________________________________________________________________\n",
      "dropout_31 (Dropout)            (None, 128)          0           skip_con_46[0][0]                \n",
      "__________________________________________________________________________________________________\n",
      "dropout_33 (Dropout)            (None, 128)          0           skip_con_49[0][0]                \n",
      "__________________________________________________________________________________________________\n",
      "skip_con_47 (SkipCon)           (None, 32)           10720       dropout_31[0][0]                 \n",
      "__________________________________________________________________________________________________\n",
      "skip_con_50 (SkipCon)           (None, 32)           10720       dropout_33[0][0]                 \n",
      "__________________________________________________________________________________________________\n",
      "tf_op_layer_concat_5 (TensorFlo [(None, 64)]         0           skip_con_47[0][0]                \n",
      "                                                                 skip_con_50[0][0]                \n",
      "__________________________________________________________________________________________________\n",
      "skip_con_52 (SkipCon)           (None, 64)           13248       tf_op_layer_concat_5[0][0]       \n",
      "__________________________________________________________________________________________________\n",
      "dropout_35 (Dropout)            (None, 64)           0           skip_con_52[0][0]                \n",
      "__________________________________________________________________________________________________\n",
      "skip_con_53 (SkipCon)           (None, 16)           1440        dropout_35[0][0]                 \n",
      "__________________________________________________________________________________________________\n",
      "dense_161 (Dense)               (None, 3)            51          skip_con_53[0][0]                \n",
      "==================================================================================================\n",
      "Total params: 705,875\n",
      "Trainable params: 699,923\n",
      "Non-trainable params: 5,952\n",
      "__________________________________________________________________________________________________\n"
     ]
    }
   ],
   "source": [
    "model.summary()"
   ]
  },
  {
   "cell_type": "code",
   "execution_count": 128,
   "metadata": {
    "executionInfo": {
     "elapsed": 8,
     "status": "aborted",
     "timestamp": 1626094482705,
     "user": {
      "displayName": "Niloy Chakraborty",
      "photoUrl": "https://lh3.googleusercontent.com/a-/AOh14Gi2dxr3mDG4fGE3czm254OfGB1BBY7ZRnOb-1iTWg=s64",
      "userId": "03470181343480694484"
     },
     "user_tz": -120
    },
    "id": "2ygNP6uQ_lS7",
    "scrolled": true
   },
   "outputs": [],
   "source": [
    "import datetime\n",
    "from tensorflow.keras.callbacks import ModelCheckpoint\n",
    "\n",
    "# Another control put in place to handle overfitting\n",
    "early_stopping = tf.keras.callbacks.EarlyStopping(monitor='val_auc',verbose=1,patience=10,mode='max',restore_best_weights=True)\n",
    "\n",
    "# Include the epoch in the file name (uses `str.format`)\n",
    "checkpoint_path = \"../Model/checkpoints/\"\n",
    "os.makedirs(checkpoint_path + datetime.datetime.now().strftime(\"%Y%m%d-%H%M\"))\n",
    "cpt_folder = checkpoint_path + datetime.datetime.now().strftime(\"%Y%m%d-%H%M\")\n",
    "checkpoint_dir = cpt_folder + \"/cp-{epoch:04d}.ckpt\"\n",
    "\n",
    "# Create a callback that saves the model's weights every epochs\n",
    "cp_callback = ModelCheckpoint(checkpoint_dir,verbose=1,mode='max', save_weights_only=True)\n",
    "\n",
    "# initial_learning_rate = 0.0001\n",
    "# lr_schedule = tf.keras.optimizers.schedules.ExponentialDecay(\n",
    "#     initial_learning_rate,\n",
    "#     decay_steps=100000,\n",
    "#     decay_rate=0.96,\n",
    "#     staircase=True)\n",
    "\n",
    "\n",
    "\n",
    "# Metrics for each epoch\n",
    "METRICS = [\n",
    "      keras.metrics.TruePositives(name='tp'),\n",
    "      keras.metrics.FalsePositives(name='fp'),\n",
    "      keras.metrics.TrueNegatives(name='tn'),\n",
    "      keras.metrics.FalseNegatives(name='fn'), \n",
    "      keras.metrics.BinaryAccuracy(name='accuracy'),\n",
    "      keras.metrics.Precision(name='precision'),\n",
    "      keras.metrics.Recall(name='recall'),\n",
    "      keras.metrics.AUC(name='auc'),\n",
    "]\n",
    "optimizer = keras.optimizers.SGD(lr=0.1, momentum=0.9, decay=0.01)\n",
    "\n",
    "model.compile(optimizer= optimizer,\n",
    "              loss='categorical_crossentropy',\n",
    "              metrics=METRICS,\n",
    "              callbacks = [early_stopping,cp_callback])"
   ]
  },
  {
   "cell_type": "code",
   "execution_count": 129,
   "metadata": {
    "executionInfo": {
     "elapsed": 9,
     "status": "aborted",
     "timestamp": 1626094482706,
     "user": {
      "displayName": "Niloy Chakraborty",
      "photoUrl": "https://lh3.googleusercontent.com/a-/AOh14Gi2dxr3mDG4fGE3czm254OfGB1BBY7ZRnOb-1iTWg=s64",
      "userId": "03470181343480694484"
     },
     "user_tz": -120
    },
    "id": "qX-2Q9OKsxDj",
    "scrolled": true
   },
   "outputs": [
    {
     "name": "stdout",
     "output_type": "stream",
     "text": [
      "Epoch 1/15\n",
      "112/112 [==============================] - 47s 423ms/step - loss: 0.8420 - tp: 38519.0000 - fp: 16580.0000 - tn: 97436.0000 - fn: 18489.0000 - accuracy: 0.7949 - precision: 0.6991 - recall: 0.6757 - auc: 0.7861 - val_loss: 0.0000e+00 - val_tp: 0.0000e+00 - val_fp: 0.0000e+00 - val_tn: 0.0000e+00 - val_fn: 0.0000e+00 - val_accuracy: 0.0000e+00 - val_precision: 0.0000e+00 - val_recall: 0.0000e+00 - val_auc: 0.0000e+00\n",
      "Epoch 2/15\n",
      "112/112 [==============================] - 33s 293ms/step - loss: 0.8068 - tp: 39762.0000 - fp: 16717.0000 - tn: 97299.0000 - fn: 17246.0000 - accuracy: 0.8014 - precision: 0.7040 - recall: 0.6975 - auc: 0.8019 - val_loss: 0.8160 - val_tp: 9966.0000 - val_fp: 4286.0000 - val_tn: 24218.0000 - val_fn: 4286.0000 - val_accuracy: 0.7995 - val_precision: 0.6993 - val_recall: 0.6993 - val_auc: 0.7938\n",
      "Epoch 3/15\n",
      "112/112 [==============================] - 35s 315ms/step - loss: 0.8033 - tp: 39683.0000 - fp: 16676.0000 - tn: 97340.0000 - fn: 17325.0000 - accuracy: 0.8012 - precision: 0.7041 - recall: 0.6961 - auc: 0.8067 - val_loss: 0.8095 - val_tp: 9908.0000 - val_fp: 4234.0000 - val_tn: 24270.0000 - val_fn: 4344.0000 - val_accuracy: 0.7994 - val_precision: 0.7006 - val_recall: 0.6952 - val_auc: 0.8004\n",
      "Epoch 4/15\n",
      "112/112 [==============================] - 31s 273ms/step - loss: 0.8013 - tp: 39594.0000 - fp: 16539.0000 - tn: 97477.0000 - fn: 17414.0000 - accuracy: 0.8015 - precision: 0.7054 - recall: 0.6945 - auc: 0.8092 - val_loss: 0.8055 - val_tp: 9908.0000 - val_fp: 4234.0000 - val_tn: 24270.0000 - val_fn: 4344.0000 - val_accuracy: 0.7994 - val_precision: 0.7006 - val_recall: 0.6952 - val_auc: 0.8059\n",
      "Epoch 5/15\n",
      "112/112 [==============================] - 31s 281ms/step - loss: 0.8001 - tp: 39560.0000 - fp: 16481.0000 - tn: 97535.0000 - fn: 17448.0000 - accuracy: 0.8016 - precision: 0.7059 - recall: 0.6939 - auc: 0.8105 - val_loss: 0.8017 - val_tp: 9843.0000 - val_fp: 4147.0000 - val_tn: 24357.0000 - val_fn: 4409.0000 - val_accuracy: 0.7999 - val_precision: 0.7036 - val_recall: 0.6906 - val_auc: 0.8098\n",
      "Epoch 6/15\n",
      "112/112 [==============================] - 32s 286ms/step - loss: 0.7980 - tp: 39496.0000 - fp: 16422.0000 - tn: 97594.0000 - fn: 17512.0000 - accuracy: 0.8016 - precision: 0.7063 - recall: 0.6928 - auc: 0.8123 - val_loss: 0.7993 - val_tp: 9735.0000 - val_fp: 4008.0000 - val_tn: 24496.0000 - val_fn: 4517.0000 - val_accuracy: 0.8006 - val_precision: 0.7084 - val_recall: 0.6831 - val_auc: 0.8117\n",
      "Epoch 7/15\n",
      "112/112 [==============================] - 30s 264ms/step - loss: 0.7979 - tp: 39420.0000 - fp: 16337.0000 - tn: 97679.0000 - fn: 17588.0000 - accuracy: 0.8016 - precision: 0.7070 - recall: 0.6915 - auc: 0.8128 - val_loss: 0.7996 - val_tp: 9824.0000 - val_fp: 4109.0000 - val_tn: 24395.0000 - val_fn: 4428.0000 - val_accuracy: 0.8003 - val_precision: 0.7051 - val_recall: 0.6893 - val_auc: 0.8114\n",
      "Epoch 8/15\n",
      "112/112 [==============================] - 35s 313ms/step - loss: 0.7965 - tp: 39404.0000 - fp: 16349.0000 - tn: 97667.0000 - fn: 17604.0000 - accuracy: 0.8015 - precision: 0.7068 - recall: 0.6912 - auc: 0.8136 - val_loss: 0.7982 - val_tp: 9827.0000 - val_fp: 4112.0000 - val_tn: 24392.0000 - val_fn: 4425.0000 - val_accuracy: 0.8003 - val_precision: 0.7050 - val_recall: 0.6895 - val_auc: 0.8128\n",
      "Epoch 9/15\n",
      "112/112 [==============================] - 30s 270ms/step - loss: 0.7962 - tp: 39360.0000 - fp: 16292.0000 - tn: 97724.0000 - fn: 17648.0000 - accuracy: 0.8015 - precision: 0.7073 - recall: 0.6904 - auc: 0.8134 - val_loss: 0.7975 - val_tp: 9834.0000 - val_fp: 4120.0000 - val_tn: 24384.0000 - val_fn: 4418.0000 - val_accuracy: 0.8003 - val_precision: 0.7047 - val_recall: 0.6900 - val_auc: 0.8135\n",
      "Epoch 10/15\n",
      "112/112 [==============================] - 32s 284ms/step - loss: 0.7963 - tp: 39359.0000 - fp: 16332.0000 - tn: 97684.0000 - fn: 17649.0000 - accuracy: 0.8013 - precision: 0.7067 - recall: 0.6904 - auc: 0.8139 - val_loss: 0.7971 - val_tp: 9819.0000 - val_fp: 4107.0000 - val_tn: 24397.0000 - val_fn: 4433.0000 - val_accuracy: 0.8003 - val_precision: 0.7051 - val_recall: 0.6890 - val_auc: 0.8136\n",
      "Epoch 11/15\n",
      "112/112 [==============================] - 25s 224ms/step - loss: 0.7946 - tp: 39298.0000 - fp: 16178.0000 - tn: 97838.0000 - fn: 17710.0000 - accuracy: 0.8019 - precision: 0.7084 - recall: 0.6893 - auc: 0.8154 - val_loss: 0.7968 - val_tp: 9751.0000 - val_fp: 4041.0000 - val_tn: 24463.0000 - val_fn: 4501.0000 - val_accuracy: 0.8002 - val_precision: 0.7070 - val_recall: 0.6842 - val_auc: 0.8137\n",
      "Epoch 12/15\n",
      "112/112 [==============================] - 30s 271ms/step - loss: 0.7948 - tp: 39240.0000 - fp: 16157.0000 - tn: 97859.0000 - fn: 17768.0000 - accuracy: 0.8016 - precision: 0.7083 - recall: 0.6883 - auc: 0.8150 - val_loss: 0.7966 - val_tp: 9810.0000 - val_fp: 4096.0000 - val_tn: 24408.0000 - val_fn: 4442.0000 - val_accuracy: 0.8003 - val_precision: 0.7055 - val_recall: 0.6883 - val_auc: 0.8141\n",
      "Epoch 13/15\n",
      "112/112 [==============================] - 30s 263ms/step - loss: 0.7936 - tp: 39219.0000 - fp: 16113.0000 - tn: 97903.0000 - fn: 17789.0000 - accuracy: 0.8018 - precision: 0.7088 - recall: 0.6880 - auc: 0.8161 - val_loss: 0.7966 - val_tp: 9832.0000 - val_fp: 4116.0000 - val_tn: 24388.0000 - val_fn: 4420.0000 - val_accuracy: 0.8004 - val_precision: 0.7049 - val_recall: 0.6899 - val_auc: 0.8143\n",
      "Epoch 14/15\n",
      "112/112 [==============================] - 34s 306ms/step - loss: 0.7935 - tp: 39324.0000 - fp: 16202.0000 - tn: 97814.0000 - fn: 17684.0000 - accuracy: 0.8019 - precision: 0.7082 - recall: 0.6898 - auc: 0.8163 - val_loss: 0.7960 - val_tp: 9709.0000 - val_fp: 3982.0000 - val_tn: 24522.0000 - val_fn: 4543.0000 - val_accuracy: 0.8006 - val_precision: 0.7092 - val_recall: 0.6812 - val_auc: 0.8147\n",
      "Epoch 15/15\n",
      "112/112 [==============================] - 29s 260ms/step - loss: 0.7934 - tp: 39133.0000 - fp: 16034.0000 - tn: 97982.0000 - fn: 17875.0000 - accuracy: 0.8017 - precision: 0.7094 - recall: 0.6864 - auc: 0.8164 - val_loss: 0.7960 - val_tp: 9713.0000 - val_fp: 3984.0000 - val_tn: 24520.0000 - val_fn: 4539.0000 - val_accuracy: 0.8007 - val_precision: 0.7091 - val_recall: 0.6815 - val_auc: 0.8149\n"
     ]
    }
   ],
   "source": [
    "history = model.fit(train_ds,\n",
    "          validation_data=val_ds,\n",
    "          epochs=15)"
   ]
  },
  {
   "cell_type": "code",
   "execution_count": 130,
   "metadata": {
    "executionInfo": {
     "elapsed": 9,
     "status": "aborted",
     "timestamp": 1626094482707,
     "user": {
      "displayName": "Niloy Chakraborty",
      "photoUrl": "https://lh3.googleusercontent.com/a-/AOh14Gi2dxr3mDG4fGE3czm254OfGB1BBY7ZRnOb-1iTWg=s64",
      "userId": "03470181343480694484"
     },
     "user_tz": -120
    },
    "id": "Vszgv7X__sNk"
   },
   "outputs": [
    {
     "data": {
      "image/png": "[encoded data removed]",
      "text/plain": [
       "<Figure size 1440x576 with 2 Axes>"
      ]
     },
     "metadata": {
      "needs_background": "light"
     },
     "output_type": "display_data"
    }
   ],
   "source": [
    "auc = history.history['auc']\n",
    "val_auc = history.history['val_auc']\n",
    "\n",
    "loss = history.history['loss']\n",
    "val_loss = history.history['val_loss']\n",
    "\n",
    "epochs_range = range(15)\n",
    "\n",
    "plt.subplot(1, 2, 1)\n",
    "plt.plot(epochs_range, auc, label='Training Accuracy')\n",
    "plt.plot(epochs_range, val_auc, label='Validation Accuracy')\n",
    "plt.legend(loc='lower right')\n",
    "plt.title('Training and Validation Accuracy')\n",
    "\n",
    "plt.subplot(1, 2, 2)\n",
    "plt.plot(epochs_range, loss, label='Training Loss')\n",
    "plt.plot(epochs_range, val_loss, label='Validation Loss')\n",
    "plt.legend(loc='upper right')\n",
    "plt.title('Training and Validation Loss')\n",
    "plt.show()"
   ]
  },
  {
   "cell_type": "code",
   "execution_count": null,
   "metadata": {},
   "outputs": [],
   "source": []
  }
 ],
 "metadata": {
  "colab": {
   "authorship_tag": "ABX9TyP8N0ZPaqWok/xnbMLtP8wY",
   "name": "Training.ipynb",
   "provenance": []
  },
  "kernelspec": {
   "display_name": "Python 3 (ipykernel)",
   "language": "python",
   "name": "python3"
  },
  "language_info": {
   "codemirror_mode": {
    "name": "ipython",
    "version": 3
   },
   "file_extension": ".py",
   "mimetype": "text/x-python",
   "name": "python",
   "nbconvert_exporter": "python",
   "pygments_lexer": "ipython3",
   "version": "3.7.6"
  }
 },
 "nbformat": 4,
 "nbformat_minor": 1
}
